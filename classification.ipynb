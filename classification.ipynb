{
 "cells": [
  {
   "cell_type": "markdown",
   "source": [
    "# classification es el notebook oficial de clasificación\r\n",
    "\r\n",
    "### - Limpiamos los datos según conclusiones del notebook main\r\n",
    "### - Probaremos distintos algorítmos de clasificación y compararemos los resultados\r\n",
    "### - Utilizamos el dataset de train ya recortado por la cátedra (igual creamos un test para pruebas internas)\r\n",
    "\r\n",
    "## A probar: PERCEPTRON - LOGISTIC REGRESSION - SVM -\r\n",
    "\r\n",
    "---\r\n",
    "\r\n",
    "\r\n",
    "\r\n"
   ],
   "metadata": {}
  },
  {
   "cell_type": "markdown",
   "source": [
    "## ACA TODOS LOS IMPORTS DEL NOTEBOOK"
   ],
   "metadata": {}
  },
  {
   "cell_type": "code",
   "execution_count": 68,
   "source": [
    "import numpy as np\r\n",
    "import pandas as pd\r\n",
    "import seaborn as sns\r\n",
    "import matplotlib.pyplot as plt\r\n",
    "from sklearn.model_selection import train_test_split, GridSearchCV\r\n",
    "from sklearn.preprocessing import StandardScaler, PolynomialFeatures\r\n",
    "from sklearn.linear_model import LogisticRegression\r\n",
    "from sklearn.pipeline import Pipeline\r\n",
    "from sklearn.metrics import accuracy_score, confusion_matrix, ConfusionMatrixDisplay, precision_recall_curve, auc, roc_auc_score, roc_curve, RocCurveDisplay, PrecisionRecallDisplay"
   ],
   "outputs": [],
   "metadata": {}
  },
  {
   "cell_type": "markdown",
   "source": [
    "## LECTURA Y LIMPIEZA DEL DATASET"
   ],
   "metadata": {}
  },
  {
   "cell_type": "code",
   "execution_count": 32,
   "source": [
    "df_orig = pd.read_csv(r\"C:\\Users\\Pier\\Documents\\GitHub\\Heart-Failure-ML\\DS_G3_HeartFailure_FULL_train.csv\",index_col=0)"
   ],
   "outputs": [],
   "metadata": {}
  },
  {
   "cell_type": "code",
   "execution_count": 33,
   "source": [
    "df_cleaned = df_orig.drop([\"time\",\"anaemia\",\"diabetes\",\"high_blood_pressure\",\"sex\",\"smoking\",\"creatinine_phosphokinase\",\"platelets\"],axis=1)\r\n",
    "# NOS QUEDAMOS CON AGE, EJECTION_FRACTION, SERUM_CREATININE, SERUM_SODIUM Y DEATH_EVENT"
   ],
   "outputs": [],
   "metadata": {}
  },
  {
   "cell_type": "code",
   "execution_count": 39,
   "source": [
    "feat_train, feat_test, targ_train, targ_test = train_test_split(df_cleaned.drop([\"DEATH_EVENT\"],axis=1),df_cleaned[\"DEATH_EVENT\"],test_size=0.2)\r\n",
    "#HAY QUE SEPARAR EL TEST ANTES DE ESTANDARIZAR PARA QUE NO INFLUYAN LOS FEATURES DE TEST EN LA MEDIA Y VARIANZA"
   ],
   "outputs": [],
   "metadata": {}
  },
  {
   "cell_type": "code",
   "execution_count": 35,
   "source": [
    "scaler = StandardScaler()\r\n",
    "feat_train = scaler.fit_transform(feat_train)"
   ],
   "outputs": [],
   "metadata": {}
  },
  {
   "cell_type": "code",
   "execution_count": 38,
   "source": [
    "scaler.var_ # ESTA VARIANZA HAY Q USAR PARA STANDARIZAR EL TARG_TEST"
   ],
   "outputs": [
    {
     "output_type": "execute_result",
     "data": {
      "text/plain": [
       "array([132.43331992, 146.84548121,   1.36863451,  16.30284258])"
      ]
     },
     "metadata": {},
     "execution_count": 38
    }
   ],
   "metadata": {}
  },
  {
   "cell_type": "code",
   "execution_count": 37,
   "source": [
    "scaler.mean_ # ESTA MEDIA HAY Q USAR PARA STANDARIZAR EL TARG_TEST"
   ],
   "outputs": [
    {
     "output_type": "execute_result",
     "data": {
      "text/plain": [
       "array([ 60.88656545,  37.91099476,   1.45020942, 136.72774869])"
      ]
     },
     "metadata": {},
     "execution_count": 37
    }
   ],
   "metadata": {}
  },
  {
   "cell_type": "markdown",
   "source": [
    "## ACA TENEMOS EL DATASET RECORTADO Y STANDARIZADO "
   ],
   "metadata": {}
  },
  {
   "cell_type": "code",
   "execution_count": 45,
   "source": [
    "hyperparam = {\"poly__degree\":[n for n in range(1,7)],\"regressor__tol\":[n for n in np.logspace(-2.0,-7.0, num=10)]}\r\n",
    "\r\n",
    "lr_model = Pipeline([[\"poly\",PolynomialFeatures(degree=1,include_bias=True)],[\"regressor\",LogisticRegression(fit_intercept=False, tol=0.0000001, penalty=\"l2\",max_iter=5000)]])\r\n",
    "\r\n",
    "grilla = GridSearchCV(lr_model,hyperparam,refit=True,cv=100,scoring=\"f1\",n_jobs=-1)\r\n",
    "\r\n",
    "grilla.fit(feat_train,targ_train)"
   ],
   "outputs": [
    {
     "output_type": "stream",
     "name": "stderr",
     "text": [
      "C:\\Users\\Pier\\AppData\\Local\\Programs\\Python\\Python39\\lib\\site-packages\\sklearn\\model_selection\\_split.py:666: UserWarning: The least populated class in y has only 62 members, which is less than n_splits=100.\n",
      "  warnings.warn((\"The least populated class in y has only %d\"\n"
     ]
    },
    {
     "output_type": "execute_result",
     "data": {
      "text/plain": [
       "GridSearchCV(cv=100,\n",
       "             estimator=Pipeline(steps=[['poly', PolynomialFeatures(degree=1)],\n",
       "                                       ['regressor',\n",
       "                                        LogisticRegression(fit_intercept=False,\n",
       "                                                           max_iter=5000,\n",
       "                                                           tol=1e-07)]]),\n",
       "             n_jobs=-1,\n",
       "             param_grid={'poly__degree': [1, 2, 3, 4, 5, 6],\n",
       "                         'regressor__tol': [0.01, 0.0027825594022071257,\n",
       "                                            0.000774263682681127,\n",
       "                                            0.00021544346900318823,\n",
       "                                            5.994842503189409e-05,\n",
       "                                            1.6681005372000593e-05,\n",
       "                                            4.641588833612773e-06,\n",
       "                                            1.2915496650148827e-06,\n",
       "                                            3.5938136638046254e-07, 1e-07]},\n",
       "             scoring='f1')"
      ]
     },
     "metadata": {},
     "execution_count": 45
    }
   ],
   "metadata": {}
  },
  {
   "cell_type": "code",
   "execution_count": 71,
   "source": [
    "lr_model = grilla.best_estimator_"
   ],
   "outputs": [],
   "metadata": {}
  },
  {
   "cell_type": "code",
   "execution_count": 72,
   "source": [
    "print(grilla.best_params_)\r\n",
    "print(grilla.best_score_)\r\n",
    "print(accuracy_score(targ_train, lr_model.predict(feat_train)))"
   ],
   "outputs": [
    {
     "output_type": "stream",
     "name": "stdout",
     "text": [
      "{'poly__degree': 2, 'regressor__tol': 0.01}\n",
      "0.29333333333333333\n",
      "0.7643979057591623\n"
     ]
    }
   ],
   "metadata": {}
  },
  {
   "cell_type": "code",
   "execution_count": 73,
   "source": [
    "cm = confusion_matrix(targ_train, lr_model.predict(feat_train))\r\n",
    "disp = ConfusionMatrixDisplay(confusion_matrix=cm)\r\n",
    "disp.plot()"
   ],
   "outputs": [
    {
     "output_type": "execute_result",
     "data": {
      "text/plain": [
       "<sklearn.metrics._plot.confusion_matrix.ConfusionMatrixDisplay at 0x2e34e3e3940>"
      ]
     },
     "metadata": {},
     "execution_count": 73
    },
    {
     "output_type": "display_data",
     "data": {
      "image/png": "[encoded data removed]",
      "text/plain": [
       "<Figure size 432x288 with 2 Axes>"
      ]
     },
     "metadata": {
      "needs_background": "light"
     }
    }
   ],
   "metadata": {}
  },
  {
   "cell_type": "code",
   "execution_count": 91,
   "source": [
    "fig, (ax1, ax2) = plt.subplots(1, 2, figsize=(20, 8))\r\n",
    "plot_precision_recall_curve(lr_model, feat_train, targ_train,ax=ax1)\r\n",
    "plot_roc_curve(lr_model, feat_train, targ_train,ax=ax2)"
   ],
   "outputs": [
    {
     "output_type": "execute_result",
     "data": {
      "text/plain": [
       "<sklearn.metrics._plot.roc_curve.RocCurveDisplay at 0x2e350738d00>"
      ]
     },
     "metadata": {},
     "execution_count": 91
    },
    {
     "output_type": "display_data",
     "data": {
      "image/png": "[encoded data removed]",
      "text/plain": [
       "<Figure size 1440x576 with 2 Axes>"
      ]
     },
     "metadata": {
      "needs_background": "light"
     }
    }
   ],
   "metadata": {}
  }
 ],
 "metadata": {
  "orig_nbformat": 4,
  "language_info": {
   "name": "python",
   "version": "3.9.6",
   "mimetype": "text/x-python",
   "codemirror_mode": {
    "name": "ipython",
    "version": 3
   },
   "pygments_lexer": "ipython3",
   "nbconvert_exporter": "python",
   "file_extension": ".py"
  },
  "kernelspec": {
   "name": "python3",
   "display_name": "Python 3.9.6 64-bit"
  },
  "interpreter": {
   "hash": "d9579fd63862c719ce91d1dd1fb1c44b2ef43bdaa2f86d843d9fd8562746d35b"
  }
 },
 "nbformat": 4,
 "nbformat_minor": 2
}