{
 "cells": [
  {
   "cell_type": "markdown",
   "source": [
    "# classification es el notebook oficial de clasificación\r\n",
    "\r\n",
    "### - Limpiamos los datos según conclusiones del notebook main\r\n",
    "### - Probaremos distintos algorítmos de clasificación y compararemos los resultados\r\n",
    "### - Utilizamos el dataset de train ya recortado por la cátedra (igual creamos un test para pruebas internas)\r\n",
    "\r\n",
    "## A probar: PERCEPTRON - LOGISTIC REGRESSION - SVM -\r\n",
    "\r\n",
    "---\r\n",
    "\r\n",
    "\r\n",
    "\r\n"
   ],
   "metadata": {}
  },
  {
   "cell_type": "markdown",
   "source": [
    "## ACA TODOS LOS IMPORTS DEL NOTEBOOK"
   ],
   "metadata": {}
  },
  {
   "cell_type": "code",
   "execution_count": 26,
   "source": [
    "import numpy as np\r\n",
    "import pandas as pd\r\n",
    "import seaborn as sns\r\n",
    "import matplotlib.pyplot as plt\r\n",
    "from sklearn.model_selection import train_test_split, GridSearchCV, cross_val_score, cross_val_predict\r\n",
    "from sklearn.preprocessing import StandardScaler, PolynomialFeatures\r\n",
    "from sklearn.linear_model import LogisticRegression\r\n",
    "from sklearn.svm import LinearSVC, SVC\r\n",
    "from sklearn.pipeline import Pipeline\r\n",
    "from sklearn.metrics import confusion_matrix, ConfusionMatrixDisplay, precision_recall_curve, auc, roc_auc_score, roc_curve, RocCurveDisplay, PrecisionRecallDisplay, plot_precision_recall_curve, plot_roc_curve"
   ],
   "outputs": [],
   "metadata": {}
  },
  {
   "cell_type": "markdown",
   "source": [
    "## LECTURA Y LIMPIEZA DEL DATASET"
   ],
   "metadata": {}
  },
  {
   "cell_type": "code",
   "execution_count": 2,
   "source": [
    "df_orig = pd.read_csv(r\"DS_G3_HeartFailure_FULL_train.csv\",index_col=0)"
   ],
   "outputs": [],
   "metadata": {}
  },
  {
   "cell_type": "code",
   "execution_count": 3,
   "source": [
    "df_cleaned = df_orig.drop([\"time\",\"anaemia\",\"diabetes\",\"high_blood_pressure\",\"sex\",\"smoking\",\"creatinine_phosphokinase\",\"platelets\"],axis=1)\r\n",
    "# NOS QUEDAMOS CON AGE, EJECTION_FRACTION, SERUM_CREATININE, SERUM_SODIUM Y DEATH_EVENT"
   ],
   "outputs": [],
   "metadata": {}
  },
  {
   "cell_type": "code",
   "execution_count": 4,
   "source": [
    "feat_train, feat_test, targ_train, targ_test = train_test_split(df_cleaned.drop([\"DEATH_EVENT\"],axis=1),df_cleaned[\"DEATH_EVENT\"],test_size=0.2)\r\n",
    "#HAY QUE SEPARAR EL TEST ANTES DE ESTANDARIZAR PARA QUE NO INFLUYAN LOS FEATURES DE TEST EN LA MEDIA Y VARIANZA"
   ],
   "outputs": [],
   "metadata": {}
  },
  {
   "cell_type": "code",
   "execution_count": 5,
   "source": [
    "scaler = StandardScaler()\r\n",
    "feat_train = scaler.fit_transform(feat_train)"
   ],
   "outputs": [],
   "metadata": {}
  },
  {
   "cell_type": "code",
   "execution_count": 6,
   "source": [
    "scaler.var_ # ESTA VARIANZA HAY Q USAR PARA STANDARIZAR EL TARG_TEST"
   ],
   "outputs": [
    {
     "output_type": "execute_result",
     "data": {
      "text/plain": [
       "array([134.52076423, 142.42038321,   1.44057696,  20.85830981])"
      ]
     },
     "metadata": {},
     "execution_count": 6
    }
   ],
   "metadata": {}
  },
  {
   "cell_type": "code",
   "execution_count": 7,
   "source": [
    "scaler.mean_ # ESTA MEDIA HAY Q USAR PARA STANDARIZAR EL TARG_TEST"
   ],
   "outputs": [
    {
     "output_type": "execute_result",
     "data": {
      "text/plain": [
       "array([ 59.88481675,  37.72251309,   1.48298429, 136.2513089 ])"
      ]
     },
     "metadata": {},
     "execution_count": 7
    }
   ],
   "metadata": {}
  },
  {
   "cell_type": "markdown",
   "source": [
    "## ACA TENEMOS EL DATASET RECORTADO Y STANDARIZADO "
   ],
   "metadata": {}
  },
  {
   "cell_type": "markdown",
   "source": [
    "# LOGISTIC REGRESSION"
   ],
   "metadata": {}
  },
  {
   "cell_type": "code",
   "execution_count": 17,
   "source": [
    "hyperparam = {\"poly__degree\":[n for n in range(1,7)],\"regressor__C\":[n for n in np.logspace(-10.0,4.0, num=25)]}\r\n",
    "\r\n",
    "lr_model = Pipeline([[\"poly\",PolynomialFeatures(degree=1,include_bias=True)],[\"regressor\",LogisticRegression(fit_intercept=False, C=1.0, tol=0.000001, penalty=\"l2\",max_iter=10000)]])\r\n",
    "\r\n",
    "lr_grilla = GridSearchCV(lr_model,hyperparam,cv=50,scoring=\"recall\",n_jobs=-1)\r\n",
    "\r\n",
    "lr_grilla.fit(feat_train,targ_train)"
   ],
   "outputs": [
    {
     "output_type": "execute_result",
     "data": {
      "text/plain": [
       "GridSearchCV(cv=50,\n",
       "             estimator=Pipeline(steps=[['poly', PolynomialFeatures(degree=1)],\n",
       "                                       ['regressor',\n",
       "                                        LogisticRegression(fit_intercept=False,\n",
       "                                                           max_iter=10000,\n",
       "                                                           tol=1e-06)]]),\n",
       "             n_jobs=-1,\n",
       "             param_grid={'poly__degree': [1, 2, 3, 4, 5, 6],\n",
       "                         'regressor__C': [1e-10, 3.831186849557293e-10,\n",
       "                                          1.4677992676220676e-09,\n",
       "                                          5.623413251903491e-09,\n",
       "                                          2.1544346900318866e-08,\n",
       "                                          8.25404185268019e-08,\n",
       "                                          3....\n",
       "                                          1.21152765862859e-06,\n",
       "                                          4.641588833612782e-06,\n",
       "                                          1.778279410038923e-05,\n",
       "                                          6.812920690579622e-05,\n",
       "                                          0.00026101572156825384, 0.001,\n",
       "                                          0.003831186849557293,\n",
       "                                          0.014677992676220735,\n",
       "                                          0.05623413251903491,\n",
       "                                          0.21544346900318867,\n",
       "                                          0.8254041852680207,\n",
       "                                          3.1622776601683795,\n",
       "                                          12.115276586285901,\n",
       "                                          46.415888336127914,\n",
       "                                          177.82794100389228, 681.2920690579622,\n",
       "                                          2610.157215682544, 10000.0]},\n",
       "             scoring='recall')"
      ]
     },
     "metadata": {},
     "execution_count": 17
    }
   ],
   "metadata": {}
  },
  {
   "cell_type": "code",
   "execution_count": 18,
   "source": [
    "lr_model = lr_grilla.best_estimator_"
   ],
   "outputs": [],
   "metadata": {}
  },
  {
   "cell_type": "code",
   "execution_count": 40,
   "source": [
    "lr_model.predict_proba(feat_train)"
   ],
   "outputs": [
    {
     "output_type": "execute_result",
     "data": {
      "text/plain": [
       "array([[0.50001225, 0.49998775],\n",
       "       [0.50000678, 0.49999322],\n",
       "       [0.50003773, 0.49996227],\n",
       "       [0.50145939, 0.49854061],\n",
       "       [0.50000272, 0.49999728],\n",
       "       [0.50001571, 0.49998429],\n",
       "       [0.49975379, 0.50024621],\n",
       "       [0.49994645, 0.50005355],\n",
       "       [0.50003119, 0.49996881],\n",
       "       [0.50055869, 0.49944131],\n",
       "       [0.50007659, 0.49992341],\n",
       "       [0.49987459, 0.50012541],\n",
       "       [0.50000102, 0.49999898],\n",
       "       [0.49966187, 0.50033813],\n",
       "       [0.49993335, 0.50006665],\n",
       "       [0.49977464, 0.50022536],\n",
       "       [0.50119774, 0.49880226],\n",
       "       [0.49990362, 0.50009638],\n",
       "       [0.50047395, 0.49952605],\n",
       "       [0.31947057, 0.68052943],\n",
       "       [0.50000503, 0.49999497],\n",
       "       [0.50002129, 0.49997871],\n",
       "       [0.50000423, 0.49999577],\n",
       "       [0.499985  , 0.500015  ],\n",
       "       [0.50003313, 0.49996687],\n",
       "       [0.49993684, 0.50006316],\n",
       "       [0.49990519, 0.50009481],\n",
       "       [0.49990461, 0.50009539],\n",
       "       [0.51493235, 0.48506765],\n",
       "       [0.44025237, 0.55974763],\n",
       "       [0.50002037, 0.49997963],\n",
       "       [0.49996376, 0.50003624],\n",
       "       [0.50001437, 0.49998563],\n",
       "       [0.5011212 , 0.4988788 ],\n",
       "       [0.5000073 , 0.4999927 ],\n",
       "       [0.49998811, 0.50001189],\n",
       "       [0.50001519, 0.49998481],\n",
       "       [0.50019186, 0.49980814],\n",
       "       [0.50000422, 0.49999578],\n",
       "       [0.49979565, 0.50020435],\n",
       "       [0.49964233, 0.50035767],\n",
       "       [0.50051846, 0.49948154],\n",
       "       [0.4994062 , 0.5005938 ],\n",
       "       [0.49991506, 0.50008494],\n",
       "       [0.49941892, 0.50058108],\n",
       "       [0.50000116, 0.49999884],\n",
       "       [0.49784352, 0.50215648],\n",
       "       [0.49971516, 0.50028484],\n",
       "       [0.50001682, 0.49998318],\n",
       "       [0.50005188, 0.49994812],\n",
       "       [0.49948739, 0.50051261],\n",
       "       [0.49992261, 0.50007739],\n",
       "       [0.50000279, 0.49999721],\n",
       "       [0.50128855, 0.49871145],\n",
       "       [0.49955311, 0.50044689],\n",
       "       [0.49839761, 0.50160239],\n",
       "       [0.49665692, 0.50334308],\n",
       "       [0.5001038 , 0.4998962 ],\n",
       "       [0.49999778, 0.50000222],\n",
       "       [0.4999044 , 0.5000956 ],\n",
       "       [0.4999396 , 0.5000604 ],\n",
       "       [0.49990203, 0.50009797],\n",
       "       [0.49998792, 0.50001208],\n",
       "       [0.4872438 , 0.5127562 ],\n",
       "       [0.50114459, 0.49885541],\n",
       "       [0.503691  , 0.496309  ],\n",
       "       [0.49979007, 0.50020993],\n",
       "       [0.49947256, 0.50052744],\n",
       "       [0.5000067 , 0.4999933 ],\n",
       "       [0.49860462, 0.50139538],\n",
       "       [0.50101477, 0.49898523],\n",
       "       [0.49829872, 0.50170128],\n",
       "       [0.50001099, 0.49998901],\n",
       "       [0.49999207, 0.50000793],\n",
       "       [0.49887102, 0.50112898],\n",
       "       [0.02743053, 0.97256947],\n",
       "       [0.50002784, 0.49997216],\n",
       "       [0.49988148, 0.50011852],\n",
       "       [0.49982696, 0.50017304],\n",
       "       [0.50009681, 0.49990319],\n",
       "       [0.50116691, 0.49883309],\n",
       "       [0.50011836, 0.49988164],\n",
       "       [0.49996015, 0.50003985],\n",
       "       [0.49995997, 0.50004003],\n",
       "       [0.49935469, 0.50064531],\n",
       "       [0.50028919, 0.49971081],\n",
       "       [0.50038016, 0.49961984],\n",
       "       [0.50011542, 0.49988458],\n",
       "       [0.49987395, 0.50012605],\n",
       "       [0.50108312, 0.49891688],\n",
       "       [0.49999467, 0.50000533],\n",
       "       [0.4996417 , 0.5003583 ],\n",
       "       [0.50108252, 0.49891748],\n",
       "       [0.50000497, 0.49999503],\n",
       "       [0.50000474, 0.49999526],\n",
       "       [0.49917476, 0.50082524],\n",
       "       [0.50011681, 0.49988319],\n",
       "       [0.49995398, 0.50004602],\n",
       "       [0.49840354, 0.50159646],\n",
       "       [0.49986181, 0.50013819],\n",
       "       [0.4995089 , 0.5004911 ],\n",
       "       [0.49998531, 0.50001469],\n",
       "       [0.50001932, 0.49998068],\n",
       "       [0.50000249, 0.49999751],\n",
       "       [0.49999966, 0.50000034],\n",
       "       [0.50000334, 0.49999666],\n",
       "       [0.5000415 , 0.4999585 ],\n",
       "       [0.50094229, 0.49905771],\n",
       "       [0.50002904, 0.49997096],\n",
       "       [0.50000582, 0.49999418],\n",
       "       [0.49999598, 0.50000402],\n",
       "       [0.5000045 , 0.4999955 ],\n",
       "       [0.499979  , 0.500021  ],\n",
       "       [0.49996532, 0.50003468],\n",
       "       [0.50162041, 0.49837959],\n",
       "       [0.51079563, 0.48920437],\n",
       "       [0.49994646, 0.50005354],\n",
       "       [0.50003154, 0.49996846],\n",
       "       [0.50012118, 0.49987882],\n",
       "       [0.50030932, 0.49969068],\n",
       "       [0.50000756, 0.49999244],\n",
       "       [0.50001586, 0.49998414],\n",
       "       [0.50039707, 0.49960293],\n",
       "       [0.50000789, 0.49999211],\n",
       "       [0.50056307, 0.49943693],\n",
       "       [0.50006404, 0.49993596],\n",
       "       [0.50001834, 0.49998166],\n",
       "       [0.50000523, 0.49999477],\n",
       "       [0.50001711, 0.49998289],\n",
       "       [0.49981277, 0.50018723],\n",
       "       [0.50000303, 0.49999697],\n",
       "       [0.50002883, 0.49997117],\n",
       "       [0.49999298, 0.50000702],\n",
       "       [0.50096902, 0.49903098],\n",
       "       [0.50028233, 0.49971767],\n",
       "       [0.50001705, 0.49998295],\n",
       "       [0.49943362, 0.50056638],\n",
       "       [0.4986321 , 0.5013679 ],\n",
       "       [0.49956362, 0.50043638],\n",
       "       [0.49998999, 0.50001001],\n",
       "       [0.5004214 , 0.4995786 ],\n",
       "       [0.49978663, 0.50021337],\n",
       "       [0.49987319, 0.50012681],\n",
       "       [0.50006567, 0.49993433],\n",
       "       [0.50009683, 0.49990317],\n",
       "       [0.50014431, 0.49985569],\n",
       "       [0.4999979 , 0.5000021 ],\n",
       "       [0.50016411, 0.49983589],\n",
       "       [0.49995276, 0.50004724],\n",
       "       [0.49995053, 0.50004947],\n",
       "       [0.5001617 , 0.4998383 ],\n",
       "       [0.49995358, 0.50004642],\n",
       "       [0.50000484, 0.49999516],\n",
       "       [0.50012922, 0.49987078],\n",
       "       [0.50042016, 0.49957984],\n",
       "       [0.49994696, 0.50005304],\n",
       "       [0.50096485, 0.49903515],\n",
       "       [0.49999828, 0.50000172],\n",
       "       [0.49990482, 0.50009518],\n",
       "       [0.50001287, 0.49998713],\n",
       "       [0.50000368, 0.49999632],\n",
       "       [0.49983207, 0.50016793],\n",
       "       [0.49604045, 0.50395955],\n",
       "       [0.49983207, 0.50016793],\n",
       "       [0.56859347, 0.43140653],\n",
       "       [0.49152219, 0.50847781],\n",
       "       [0.49989854, 0.50010146],\n",
       "       [0.50000413, 0.49999587],\n",
       "       [0.50002125, 0.49997875],\n",
       "       [0.49996409, 0.50003591],\n",
       "       [0.50000777, 0.49999223],\n",
       "       [0.49819607, 0.50180393],\n",
       "       [0.50105211, 0.49894789],\n",
       "       [0.500028  , 0.499972  ],\n",
       "       [0.50000317, 0.49999683],\n",
       "       [0.03157785, 0.96842215],\n",
       "       [0.49983697, 0.50016303],\n",
       "       [0.50115486, 0.49884514],\n",
       "       [0.50121217, 0.49878783],\n",
       "       [0.5247759 , 0.4752241 ],\n",
       "       [0.50002551, 0.49997449],\n",
       "       [0.49968325, 0.50031675],\n",
       "       [0.49698732, 0.50301268],\n",
       "       [0.49794887, 0.50205113],\n",
       "       [0.50012018, 0.49987982],\n",
       "       [0.49998977, 0.50001023],\n",
       "       [0.50038877, 0.49961123],\n",
       "       [0.50001657, 0.49998343],\n",
       "       [0.45697805, 0.54302195],\n",
       "       [0.49998795, 0.50001205],\n",
       "       [0.49980497, 0.50019503]])"
      ]
     },
     "metadata": {},
     "execution_count": 40
    }
   ],
   "metadata": {}
  },
  {
   "cell_type": "code",
   "execution_count": 25,
   "source": [
    "print(lr_grilla.best_params_)\r\n",
    "print(\"Grilla Best Score: {}\".format(lr_grilla.best_score_))\r\n",
    "\r\n",
    "\r\n",
    "print(\"Cross Validation Score: {}\".format(cross_val_score(lr_model, feat_train, targ_train,cv=50,scoring=\"recall\").mean()))"
   ],
   "outputs": [
    {
     "output_type": "stream",
     "name": "stdout",
     "text": [
      "{'poly__degree': 5, 'regressor__C': 3.162277660168379e-07}\n",
      "Grilla Best Score: 0.75\n",
      "Cross Validation Score: 0.75\n"
     ]
    }
   ],
   "metadata": {}
  },
  {
   "cell_type": "code",
   "execution_count": 28,
   "source": [
    "lr_predicted = cross_val_predict(lr_model,feat_train,targ_train,cv=50,method=\"predict\")"
   ],
   "outputs": [],
   "metadata": {}
  },
  {
   "cell_type": "code",
   "execution_count": 41,
   "source": [
    "cm = confusion_matrix(targ_train, lr_predicted)\r\n",
    "disp = ConfusionMatrixDisplay(confusion_matrix=cm)\r\n",
    "disp.plot()"
   ],
   "outputs": [
    {
     "output_type": "execute_result",
     "data": {
      "text/plain": [
       "<sklearn.metrics._plot.confusion_matrix.ConfusionMatrixDisplay at 0x26cad6bc520>"
      ]
     },
     "metadata": {},
     "execution_count": 41
    },
    {
     "output_type": "display_data",
     "data": {
      "image/png": "[encoded data removed]",
      "text/plain": [
       "<Figure size 432x288 with 2 Axes>"
      ]
     },
     "metadata": {
      "needs_background": "light"
     }
    }
   ],
   "metadata": {}
  },
  {
   "cell_type": "code",
   "execution_count": 43,
   "source": [
    "fig, (ax1, ax2) = plt.subplots(1, 2, figsize=(20, 8))\r\n",
    "plot_precision_recall_curve(lr_model, feat_train, targ_train,ax=ax1)\r\n",
    "plot_roc_curve(lr_model, feat_train, targ_train,ax=ax2)"
   ],
   "outputs": [
    {
     "output_type": "execute_result",
     "data": {
      "text/plain": [
       "<sklearn.metrics._plot.roc_curve.RocCurveDisplay at 0x26cdfd13820>"
      ]
     },
     "metadata": {},
     "execution_count": 43
    },
    {
     "output_type": "display_data",
     "data": {
      "image/png": "[encoded data removed]",
      "text/plain": [
       "<Figure size 1440x576 with 2 Axes>"
      ]
     },
     "metadata": {
      "needs_background": "light"
     }
    }
   ],
   "metadata": {}
  },
  {
   "cell_type": "markdown",
   "source": [
    "---"
   ],
   "metadata": {}
  },
  {
   "cell_type": "markdown",
   "source": [
    "# SUPPORT VECTOR MACHINES"
   ],
   "metadata": {}
  },
  {
   "cell_type": "code",
   "execution_count": 95,
   "source": [
    "hyperparam = {\"poly__degree\":[n for n in range(1,7)],\"SVC__C\":[n for n in np.logspace(-8.0,-3.0, num=25)]}\r\n",
    "\r\n",
    "svml_model = Pipeline([[\"poly\",PolynomialFeatures(degree=1,include_bias=True)],[\"SVC\",LinearSVC(loss='hinge', C=1.0, fit_intercept=False, penalty='l2', max_iter=5000)]])\r\n",
    "\r\n",
    "grilla = GridSearchCV(svml_model,hyperparam,cv=50,scoring=\"recall\",n_jobs=-1)\r\n",
    "\r\n",
    "grilla.fit(feat_train,targ_train)"
   ],
   "outputs": [
    {
     "output_type": "execute_result",
     "data": {
      "text/plain": [
       "GridSearchCV(cv=50,\n",
       "             estimator=Pipeline(steps=[['poly', PolynomialFeatures(degree=1)],\n",
       "                                       ['SVC',\n",
       "                                        LinearSVC(fit_intercept=False,\n",
       "                                                  loss='hinge',\n",
       "                                                  max_iter=5000)]]),\n",
       "             n_jobs=-1,\n",
       "             param_grid={'SVC__C': [1e-08, 1.6155980984398728e-08,\n",
       "                                    2.6101572156825384e-08,\n",
       "                                    4.2169650342858225e-08,\n",
       "                                    6.812920690579608e-08,\n",
       "                                    1.1006941712522103e-07,\n",
       "                                    1.7782794100389227e-07,\n",
       "                                    2.8729848333536685e-07,\n",
       "                                    4...\n",
       "                                    7.498942093324558e-07, 1.21152765862859e-06,\n",
       "                                    1.9573417814876616e-06,\n",
       "                                    3.162277660168379e-06,\n",
       "                                    5.108969774506934e-06, 8.25404185268019e-06,\n",
       "                                    1.333521432163324e-05,\n",
       "                                    2.1544346900318867e-05,\n",
       "                                    3.480700588428413e-05,\n",
       "                                    5.623413251903491e-05, 9.08517575651688e-05,\n",
       "                                    0.00014677992676220705,\n",
       "                                    0.00023713737056616554,\n",
       "                                    0.0003831186849557293, 0.000618965818891261,\n",
       "                                    0.001],\n",
       "                         'poly__degree': [1, 2, 3, 4, 5, 6]},\n",
       "             scoring='recall')"
      ]
     },
     "metadata": {},
     "execution_count": 95
    }
   ],
   "metadata": {}
  },
  {
   "cell_type": "code",
   "execution_count": 96,
   "source": [
    "svml_model = grilla.best_estimator_\r\n",
    "print(grilla.best_params_)\r\n",
    "print(grilla.best_score_)\r\n",
    "print(accuracy_score(targ_train, svml_model.predict(feat_train)))"
   ],
   "outputs": [
    {
     "output_type": "stream",
     "name": "stdout",
     "text": [
      "{'SVC__C': 4.641588833612782e-07, 'poly__degree': 5}\n",
      "0.75\n",
      "0.7015706806282722\n"
     ]
    }
   ],
   "metadata": {}
  },
  {
   "cell_type": "code",
   "execution_count": 98,
   "source": [
    "grilla.cv_results_[\"mean_test_score\"]\r\n",
    "fig, ax1 = plt.subplots(1, 1, figsize=(20, 4))\r\n",
    "plt.plot(grilla.cv_results_[\"param_SVC__C\"],grilla.cv_results_[\"mean_test_score\"],scaley=\"log\")\r\n",
    "ax1.set_xscale('log')"
   ],
   "outputs": [
    {
     "output_type": "display_data",
     "data": {
      "image/png": "[encoded data removed]",
      "text/plain": [
       "<Figure size 1440x288 with 1 Axes>"
      ]
     },
     "metadata": {
      "needs_background": "light"
     }
    }
   ],
   "metadata": {}
  },
  {
   "cell_type": "code",
   "execution_count": 99,
   "source": [
    "cm = confusion_matrix(targ_train, svml_model.predict(feat_train))\r\n",
    "disp = ConfusionMatrixDisplay(confusion_matrix=cm)\r\n",
    "disp.plot()"
   ],
   "outputs": [
    {
     "output_type": "execute_result",
     "data": {
      "text/plain": [
       "<sklearn.metrics._plot.confusion_matrix.ConfusionMatrixDisplay at 0x23da8620e20>"
      ]
     },
     "metadata": {},
     "execution_count": 99
    },
    {
     "output_type": "display_data",
     "data": {
      "image/png": "[encoded data removed]",
      "text/plain": [
       "<Figure size 432x288 with 2 Axes>"
      ]
     },
     "metadata": {
      "needs_background": "light"
     }
    }
   ],
   "metadata": {}
  },
  {
   "cell_type": "code",
   "execution_count": 100,
   "source": [
    "fig, (ax1, ax2) = plt.subplots(1, 2, figsize=(20, 8))\r\n",
    "plot_precision_recall_curve(svml_model, feat_train, targ_train,ax=ax1)\r\n",
    "plot_roc_curve(svml_model, feat_train, targ_train,ax=ax2)"
   ],
   "outputs": [
    {
     "output_type": "execute_result",
     "data": {
      "text/plain": [
       "<sklearn.metrics._plot.roc_curve.RocCurveDisplay at 0x23da899f580>"
      ]
     },
     "metadata": {},
     "execution_count": 100
    },
    {
     "output_type": "display_data",
     "data": {
      "image/png": "[encoded data removed]",
      "text/plain": [
       "<Figure size 1440x576 with 2 Axes>"
      ]
     },
     "metadata": {
      "needs_background": "light"
     }
    }
   ],
   "metadata": {}
  },
  {
   "cell_type": "code",
   "execution_count": 93,
   "source": [
    "hyperparam = {\"poly__degree\":[n for n in range(1,5)],\"SVC__C\":[n for n in np.logspace(-8.0,-4.0, num=25)]}#,\"SVC__gamma\":[n for n in np.logspace(5.0,10.0, num=5)]}\r\n",
    "\r\n",
    "svm_model = Pipeline([[\"poly\",PolynomialFeatures(degree=1,include_bias=True)],[\"SVC\",SVC(kernel='rbf', C=1.0, gamma=0.01)]])\r\n",
    "\r\n",
    "grilla = GridSearchCV(svm_model,hyperparam,cv=50,scoring=\"recall\",n_jobs=-1)\r\n",
    "\r\n",
    "grilla.fit(feat_train,targ_train)"
   ],
   "outputs": [
    {
     "output_type": "execute_result",
     "data": {
      "text/plain": [
       "GridSearchCV(cv=50,\n",
       "             estimator=Pipeline(steps=[['poly', PolynomialFeatures(degree=1)],\n",
       "                                       ['SVC', SVC(gamma=0.01)]]),\n",
       "             n_jobs=-1,\n",
       "             param_grid={'SVC__C': [1e-08, 1.4677992676220705e-08,\n",
       "                                    2.1544346900318822e-08,\n",
       "                                    3.162277660168379e-08,\n",
       "                                    4.641588833612782e-08,\n",
       "                                    6.812920690579608e-08, 1e-07,\n",
       "                                    1.4677992676220674e-07,\n",
       "                                    2.1544346900318822e-07,\n",
       "                                    3.162277660168379e-07,\n",
       "                                    4.6415888336127725e-07,\n",
       "                                    6.812920690579608e-07, 1e-06,\n",
       "                                    1.4677992676220675e-06,\n",
       "                                    2.1544346900318822e-06,\n",
       "                                    3.162277660168379e-06,\n",
       "                                    4.641588833612773e-06,\n",
       "                                    6.8129206905796085e-06, 1e-05,\n",
       "                                    1.4677992676220675e-05,\n",
       "                                    2.1544346900318823e-05,\n",
       "                                    3.1622776601683795e-05,\n",
       "                                    4.641588833612772e-05,\n",
       "                                    6.812920690579608e-05, 0.0001],\n",
       "                         'poly__degree': [1, 2, 3, 4]},\n",
       "             scoring='recall')"
      ]
     },
     "metadata": {},
     "execution_count": 93
    }
   ],
   "metadata": {}
  },
  {
   "cell_type": "code",
   "execution_count": 94,
   "source": [
    "svm_model = grilla.best_estimator_\r\n",
    "print(grilla.best_params_)\r\n",
    "print(grilla.best_score_)\r\n",
    "print(accuracy_score(targ_train, svm_model.predict(feat_train)))"
   ],
   "outputs": [
    {
     "output_type": "stream",
     "name": "stdout",
     "text": [
      "{'SVC__C': 1e-08, 'poly__degree': 1}\n",
      "0.0\n",
      "0.6649214659685864\n"
     ]
    }
   ],
   "metadata": {}
  },
  {
   "cell_type": "code",
   "execution_count": 85,
   "source": [
    "grilla.cv_results_[\"mean_test_score\"]"
   ],
   "outputs": [
    {
     "output_type": "execute_result",
     "data": {
      "text/plain": [
       "array([0., 0., 0., 0., 0., 0., 0., 0., 0., 0., 0., 0., 0., 0., 0., 0., 0.,\n",
       "       0., 0., 0., 0., 0., 0., 0., 0., 0., 0., 0., 0., 0., 0., 0., 0., 0.,\n",
       "       0., 0., 0., 0., 0., 0., 0., 0., 0., 0., 0., 0., 0., 0., 0., 0., 0.,\n",
       "       0., 0., 0., 0., 0., 0., 0., 0., 0., 0., 0., 0., 0., 0., 0., 0., 0.,\n",
       "       0., 0., 0., 0., 0., 0., 0., 0., 0., 0., 0., 0., 0., 0., 0., 0., 0.,\n",
       "       0., 0., 0., 0., 0., 0., 0., 0., 0., 0., 0., 0., 0., 0., 0.])"
      ]
     },
     "metadata": {},
     "execution_count": 85
    }
   ],
   "metadata": {}
  },
  {
   "cell_type": "code",
   "execution_count": 10,
   "source": [
    "plt.plot([n for n in range(len(grilla.cv_results_[\"mean_test_score\"]))],grilla.cv_results_[\"mean_test_score\"])"
   ],
   "outputs": [
    {
     "output_type": "execute_result",
     "data": {
      "text/plain": [
       "[<matplotlib.lines.Line2D at 0x1687fd6dc40>]"
      ]
     },
     "metadata": {},
     "execution_count": 10
    },
    {
     "output_type": "display_data",
     "data": {
      "image/png": "[encoded data removed]",
      "text/plain": [
       "<Figure size 432x288 with 1 Axes>"
      ]
     },
     "metadata": {
      "needs_background": "light"
     }
    }
   ],
   "metadata": {}
  },
  {
   "cell_type": "code",
   "execution_count": 37,
   "source": [
    "cm = confusion_matrix(targ_train, svm_model.predict(feat_train))\r\n",
    "disp = ConfusionMatrixDisplay(confusion_matrix=cm)\r\n",
    "disp.plot()"
   ],
   "outputs": [
    {
     "output_type": "execute_result",
     "data": {
      "text/plain": [
       "<sklearn.metrics._plot.confusion_matrix.ConfusionMatrixDisplay at 0x1db66c099a0>"
      ]
     },
     "metadata": {},
     "execution_count": 37
    },
    {
     "output_type": "display_data",
     "data": {
      "image/png": "[encoded data removed]",
      "text/plain": [
       "<Figure size 432x288 with 2 Axes>"
      ]
     },
     "metadata": {
      "needs_background": "light"
     }
    }
   ],
   "metadata": {}
  },
  {
   "cell_type": "code",
   "execution_count": 38,
   "source": [
    "fig, (ax1, ax2) = plt.subplots(1, 2, figsize=(20, 8))\r\n",
    "plot_precision_recall_curve(svm_model, feat_train, targ_train,ax=ax1)\r\n",
    "plot_roc_curve(svm_model, feat_train, targ_train,ax=ax2)"
   ],
   "outputs": [
    {
     "output_type": "execute_result",
     "data": {
      "text/plain": [
       "<sklearn.metrics._plot.roc_curve.RocCurveDisplay at 0x1db66bf41f0>"
      ]
     },
     "metadata": {},
     "execution_count": 38
    },
    {
     "output_type": "display_data",
     "data": {
      "image/png": "[encoded data removed]",
      "text/plain": [
       "<Figure size 1440x576 with 2 Axes>"
      ]
     },
     "metadata": {
      "needs_background": "light"
     }
    }
   ],
   "metadata": {}
  }
 ],
 "metadata": {
  "orig_nbformat": 4,
  "language_info": {
   "name": "python",
   "version": "3.9.6",
   "mimetype": "text/x-python",
   "codemirror_mode": {
    "name": "ipython",
    "version": 3
   },
   "pygments_lexer": "ipython3",
   "nbconvert_exporter": "python",
   "file_extension": ".py"
  },
  "kernelspec": {
   "name": "python3",
   "display_name": "Python 3.9.6 64-bit"
  },
  "interpreter": {
   "hash": "d9579fd63862c719ce91d1dd1fb1c44b2ef43bdaa2f86d843d9fd8562746d35b"
  }
 },
 "nbformat": 4,
 "nbformat_minor": 2
}