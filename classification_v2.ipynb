{
 "cells": [
  {
   "cell_type": "markdown",
   "metadata": {},
   "source": [
    "# classification es el notebook oficial de clasificación\n",
    "\n",
    "### - Limpiamos los datos según conclusiones del notebook main\n",
    "### - Probaremos distintos algorítmos de clasificación y compararemos los resultados\n",
    "### - Utilizamos el dataset de train ya recortado por la cátedra (igual creamos un test para pruebas internas)\n",
    "\n",
    "---\n",
    "\n",
    "\n",
    "\n"
   ]
  },
  {
   "cell_type": "markdown",
   "metadata": {},
   "source": [
    "## ACA TODOS LOS IMPORTS DEL NOTEBOOK"
   ]
  },
  {
   "cell_type": "code",
   "execution_count": 30,
   "metadata": {},
   "outputs": [],
   "source": [
    "import numpy as np\n",
    "import pandas as pd\n",
    "import seaborn as sns\n",
    "import matplotlib.pyplot as plt\n",
    "from imblearn.over_sampling import SMOTE\n",
    "from xgboost import XGBClassifier\n",
    "from sklearn.model_selection import train_test_split, GridSearchCV, cross_val_score, cross_val_predict, StratifiedShuffleSplit\n",
    "from sklearn.feature_selection import RFECV\n",
    "from sklearn.preprocessing import StandardScaler, PolynomialFeatures\n",
    "from sklearn.linear_model import LogisticRegression\n",
    "from sklearn.svm import LinearSVC, SVC\n",
    "from sklearn.tree import DecisionTreeClassifier, plot_tree\n",
    "from sklearn.ensemble import RandomForestClassifier, AdaBoostClassifier, GradientBoostingClassifier\n",
    "from sklearn.pipeline import Pipeline\n",
    "from sklearn.metrics import f1_score,accuracy_score,recall_score, confusion_matrix, ConfusionMatrixDisplay, precision_recall_curve, auc, roc_auc_score, roc_curve, RocCurveDisplay, PrecisionRecallDisplay, plot_precision_recall_curve, plot_roc_curve "
   ]
  },
  {
   "cell_type": "markdown",
   "metadata": {},
   "source": [
    "## LECTURA Y LIMPIEZA DEL DATASET"
   ]
  },
  {
   "cell_type": "code",
   "execution_count": 2,
   "metadata": {},
   "outputs": [],
   "source": [
    "df_orig = pd.read_csv(r\"DS_G3_HeartFailure_FULL_train.csv\",index_col=0)"
   ]
  },
  {
   "cell_type": "code",
   "execution_count": 3,
   "metadata": {},
   "outputs": [],
   "source": [
    "df_cleaned = df_orig.copy()\n",
    "feat_train, feat_test, targ_train, targ_test = train_test_split(df_cleaned.drop([\"DEATH_EVENT\"],axis=1),df_cleaned[\"DEATH_EVENT\"],test_size=0.2,random_state=322)"
   ]
  },
  {
   "cell_type": "code",
   "execution_count": 4,
   "metadata": {},
   "outputs": [
    {
     "name": "stdout",
     "output_type": "stream",
     "text": [
      "Fitting estimator with 12 features.\n",
      "Fitting estimator with 11 features.\n",
      "Fitting estimator with 10 features.\n",
      "Fitting estimator with 9 features.\n",
      "Fitting estimator with 8 features.\n",
      "Fitting estimator with 7 features.\n",
      "Fitting estimator with 6 features.\n"
     ]
    }
   ],
   "source": [
    "rfe = RFECV(RandomForestClassifier(n_estimators=2000),scoring=\"recall\",min_features_to_select=5,cv=10,verbose=1,n_jobs=-1)\n",
    "rfe = rfe.fit(feat_train,targ_train)"
   ]
  },
  {
   "cell_type": "code",
   "execution_count": 5,
   "metadata": {},
   "outputs": [
    {
     "name": "stdout",
     "output_type": "stream",
     "text": [
      "('age', True)\n",
      "('anaemia', False)\n",
      "('creatinine_phosphokinase', True)\n",
      "('diabetes', False)\n",
      "('ejection_fraction', True)\n",
      "('high_blood_pressure', False)\n",
      "('platelets', False)\n",
      "('serum_creatinine', True)\n",
      "('serum_sodium', False)\n",
      "('sex', False)\n",
      "('smoking', False)\n",
      "('time', True)\n"
     ]
    }
   ],
   "source": [
    "for feat in zip(feat_train.columns,rfe.support_):\n",
    "    print(feat)"
   ]
  },
  {
   "cell_type": "markdown",
   "metadata": {},
   "source": [
    "## Transformaciones necesarias al df"
   ]
  },
  {
   "cell_type": "code",
   "execution_count": 6,
   "metadata": {},
   "outputs": [],
   "source": [
    "#df_orig[\"cant_path\"] = df_orig[\"anaemia\"]+df_orig[\"high_blood_pressure\"]+df_orig[\"diabetes\"]\n",
    "#df_cleaned = df_orig.copy()\n",
    "df_cleaned = df_orig.drop([\"time\",\"anaemia\",\"diabetes\",\"high_blood_pressure\",\"sex\",\"smoking\"],axis=1)\n",
    "#df_cleaned = df_orig.drop([\"anaemia\",\"diabetes\",\"high_blood_pressure\",\"sex\",\"smoking\"],axis=1)\n",
    "# NOS QUEDAMOS CON AGE, EJECTION_FRACTION, SERUM_CREATININE, SERUM_SODIUM Y DEATH_EVENT"
   ]
  },
  {
   "cell_type": "code",
   "execution_count": 7,
   "metadata": {},
   "outputs": [
    {
     "data": {
      "text/html": [
       "<div>\n",
       "<style scoped>\n",
       "    .dataframe tbody tr th:only-of-type {\n",
       "        vertical-align: middle;\n",
       "    }\n",
       "\n",
       "    .dataframe tbody tr th {\n",
       "        vertical-align: top;\n",
       "    }\n",
       "\n",
       "    .dataframe thead th {\n",
       "        text-align: right;\n",
       "    }\n",
       "</style>\n",
       "<table border=\"1\" class=\"dataframe\">\n",
       "  <thead>\n",
       "    <tr style=\"text-align: right;\">\n",
       "      <th></th>\n",
       "      <th>age</th>\n",
       "      <th>creatinine_phosphokinase</th>\n",
       "      <th>ejection_fraction</th>\n",
       "      <th>platelets</th>\n",
       "      <th>serum_creatinine</th>\n",
       "      <th>serum_sodium</th>\n",
       "      <th>DEATH_EVENT</th>\n",
       "    </tr>\n",
       "  </thead>\n",
       "  <tbody>\n",
       "    <tr>\n",
       "      <th>55</th>\n",
       "      <td>95.0</td>\n",
       "      <td>371</td>\n",
       "      <td>30</td>\n",
       "      <td>461000.0</td>\n",
       "      <td>2.0</td>\n",
       "      <td>132</td>\n",
       "      <td>1</td>\n",
       "    </tr>\n",
       "    <tr>\n",
       "      <th>180</th>\n",
       "      <td>40.0</td>\n",
       "      <td>478</td>\n",
       "      <td>30</td>\n",
       "      <td>303000.0</td>\n",
       "      <td>0.9</td>\n",
       "      <td>136</td>\n",
       "      <td>0</td>\n",
       "    </tr>\n",
       "    <tr>\n",
       "      <th>237</th>\n",
       "      <td>70.0</td>\n",
       "      <td>232</td>\n",
       "      <td>30</td>\n",
       "      <td>173000.0</td>\n",
       "      <td>1.2</td>\n",
       "      <td>132</td>\n",
       "      <td>0</td>\n",
       "    </tr>\n",
       "    <tr>\n",
       "      <th>280</th>\n",
       "      <td>70.0</td>\n",
       "      <td>2695</td>\n",
       "      <td>40</td>\n",
       "      <td>241000.0</td>\n",
       "      <td>1.0</td>\n",
       "      <td>137</td>\n",
       "      <td>0</td>\n",
       "    </tr>\n",
       "    <tr>\n",
       "      <th>181</th>\n",
       "      <td>59.0</td>\n",
       "      <td>176</td>\n",
       "      <td>25</td>\n",
       "      <td>221000.0</td>\n",
       "      <td>1.0</td>\n",
       "      <td>136</td>\n",
       "      <td>1</td>\n",
       "    </tr>\n",
       "  </tbody>\n",
       "</table>\n",
       "</div>"
      ],
      "text/plain": [
       "      age  creatinine_phosphokinase  ejection_fraction  platelets  \\\n",
       "55   95.0                       371                 30   461000.0   \n",
       "180  40.0                       478                 30   303000.0   \n",
       "237  70.0                       232                 30   173000.0   \n",
       "280  70.0                      2695                 40   241000.0   \n",
       "181  59.0                       176                 25   221000.0   \n",
       "\n",
       "     serum_creatinine  serum_sodium  DEATH_EVENT  \n",
       "55                2.0           132            1  \n",
       "180               0.9           136            0  \n",
       "237               1.2           132            0  \n",
       "280               1.0           137            0  \n",
       "181               1.0           136            1  "
      ]
     },
     "execution_count": 7,
     "metadata": {},
     "output_type": "execute_result"
    }
   ],
   "source": [
    "df_cleaned.head()"
   ]
  },
  {
   "cell_type": "code",
   "execution_count": 8,
   "metadata": {},
   "outputs": [],
   "source": [
    "feat_train, feat_test, targ_train, targ_test = train_test_split(df_cleaned.drop([\"DEATH_EVENT\"],axis=1),df_cleaned[\"DEATH_EVENT\"],test_size=0.2,random_state=69)\n",
    "#HAY QUE SEPARAR EL TEST ANTES DE ESTANDARIZAR PARA QUE NO INFLUYAN LOS FEATURES DE TEST EN LA MEDIA Y VARIANZA"
   ]
  },
  {
   "cell_type": "code",
   "execution_count": 9,
   "metadata": {},
   "outputs": [],
   "source": [
    "scaler = StandardScaler()\n",
    "feat_train = scaler.fit_transform(feat_train)\n",
    "#APLICAMOS SMOTE PARA AUMENTAR LA CANTIDAD DE SAMPLES Y BALANCEAR EL TARGET\n",
    "feat_train, targ_train = SMOTE().fit_resample(feat_train, targ_train)"
   ]
  },
  {
   "cell_type": "markdown",
   "metadata": {},
   "source": [
    "## ACA TENEMOS EL DATASET RECORTADO Y STANDARIZADO "
   ]
  },
  {
   "cell_type": "code",
   "execution_count": 10,
   "metadata": {},
   "outputs": [],
   "source": [
    "score_metric = \"recall\" # Queremos pocos FN, es decir pacientes q decimos q NO tienen riesgo pero SI."
   ]
  },
  {
   "cell_type": "markdown",
   "metadata": {},
   "source": [
    "---\n",
    "---\n",
    "---"
   ]
  },
  {
   "cell_type": "markdown",
   "metadata": {},
   "source": [
    "# LOGISTIC REGRESSION"
   ]
  },
  {
   "cell_type": "markdown",
   "metadata": {},
   "source": [
    "### La teoría indica que el Logistic Regressor no tiene hyperparametros q valgan la pena tunear mas allá del penalty o un poco el \"C\"."
   ]
  },
  {
   "cell_type": "code",
   "execution_count": 56,
   "metadata": {},
   "outputs": [
    {
     "data": {
      "text/plain": [
       "<matplotlib.legend.Legend at 0x1a884487a60>"
      ]
     },
     "execution_count": 56,
     "metadata": {},
     "output_type": "execute_result"
    },
    {
     "data": {
      "image/png": "[encoded data removed]",
      "text/plain": [
       "<Figure size 1080x576 with 1 Axes>"
      ]
     },
     "metadata": {
      "needs_background": "light"
     },
     "output_type": "display_data"
    }
   ],
   "source": [
    "lr_scoring = []\n",
    "lr_scoring_t = []\n",
    "lr_acc = []\n",
    "lr_f1 = []\n",
    "for g in np.logspace(-5,-1,30):\n",
    "    lr_model = Pipeline([[\"poly\",PolynomialFeatures(degree=2)],[\"regressor\",LogisticRegression(fit_intercept=False, dual=False, max_iter=50000, C=g)]])\n",
    "    lr_model.fit(feat_train,targ_train)\n",
    "    lr_scoring.append(recall_score(targ_train,cross_val_predict(lr_model,feat_train,targ_train,cv=10)))\n",
    "    lr_scoring_t.append(recall_score(targ_test,lr_model.predict(scaler.transform(feat_test))))\n",
    "    lr_acc.append(accuracy_score(targ_test,lr_model.predict(scaler.transform(feat_test))))\n",
    "    lr_f1.append(f1_score(targ_test,lr_model.predict(scaler.transform(feat_test))))\n",
    "plt.figure(figsize=(15,8))\n",
    "\n",
    "plt.plot(lr_scoring,label=\"cv\")\n",
    "plt.plot(lr_scoring_t,label=\"test\")\n",
    "plt.plot(lr_acc,label=\"acc\")\n",
    "plt.plot(lr_f1,label=\"f1\")\n",
    "plt.legend()"
   ]
  },
  {
   "cell_type": "code",
   "execution_count": 37,
   "metadata": {},
   "outputs": [
    {
     "name": "stdout",
     "output_type": "stream",
     "text": [
      "Test: 0.778\n"
     ]
    },
    {
     "data": {
      "image/png": "[encoded data removed]",
      "text/plain": [
       "<Figure size 432x288 with 2 Axes>"
      ]
     },
     "metadata": {
      "needs_background": "light"
     },
     "output_type": "display_data"
    }
   ],
   "source": [
    "lr_predicted_t = lr_model.predict(scaler.transform(feat_test))\n",
    "cm = confusion_matrix(targ_test, lr_predicted_t)\n",
    "disp = ConfusionMatrixDisplay(confusion_matrix=cm)\n",
    "disp.plot()\n",
    "rf_scoring_t = recall_score(targ_test,lr_predicted_t)\n",
    "print(\"Test: {:.3f}\".format(rf_scoring_t))"
   ]
  },
  {
   "cell_type": "markdown",
   "metadata": {},
   "source": [
    "---"
   ]
  }
 ],
 "metadata": {
  "interpreter": {
   "hash": "d9579fd63862c719ce91d1dd1fb1c44b2ef43bdaa2f86d843d9fd8562746d35b"
  },
  "kernelspec": {
   "display_name": "Python 3.9.6 64-bit",
   "name": "python3"
  },
  "language_info": {
   "codemirror_mode": {
    "name": "ipython",
    "version": 3
   },
   "file_extension": ".py",
   "mimetype": "text/x-python",
   "name": "python",
   "nbconvert_exporter": "python",
   "pygments_lexer": "ipython3",
   "version": "3.9.6"
  },
  "orig_nbformat": 4
 },
 "nbformat": 4,
 "nbformat_minor": 2
}
