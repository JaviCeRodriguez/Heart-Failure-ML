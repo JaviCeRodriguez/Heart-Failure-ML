{
  "nbformat": 4,
  "nbformat_minor": 2,
  "metadata": {
    "colab": {
      "name": "REG POLINOMIAL PRUEBAS.ipynb",
      "provenance": [],
      "collapsed_sections": []
    },
    "kernelspec": {
      "name": "python3",
      "display_name": "Python 3"
    },
    "language_info": {
      "name": "python"
    }
  },
  "cells": [
    {
      "cell_type": "code",
      "execution_count": 1,
      "source": [
        "import numpy as np\r\n",
        "import pandas as pd\r\n",
        "import seaborn as sns\r\n",
        "import matplotlib.pyplot as plt\r\n",
        "import sklearn\r\n",
        "import os\r\n",
        "\r\n"
      ],
      "outputs": [],
      "metadata": {
        "id": "oYwfLsZg1JjC"
      }
    },
    {
      "cell_type": "code",
      "execution_count": 42,
      "source": [
        "df_orig = pd.read_csv(r\"C:\\Users\\Pier\\Documents\\GitHub\\Heart-Failure-ML\\heart_failure_clinical_records_dataset.csv\")"
      ],
      "outputs": [],
      "metadata": {
        "id": "BUIBqyWrS190"
      }
    },
    {
      "cell_type": "code",
      "execution_count": null,
      "source": [
        "df_orig.head()"
      ],
      "outputs": [],
      "metadata": {
        "id": "tV2ZIREnTAiz"
      }
    },
    {
      "cell_type": "code",
      "execution_count": 43,
      "source": [
        "props_binarias = [\"anaemia\",\"diabetes\",\"high_blood_pressure\",\"sex\",\"smoking\",\"DEATH_EVENT\"]\r\n",
        "props_continuas = [\"age\",\"creatinine_phosphokinase\",\"ejection_fraction\",\"platelets\",\"serum_creatinine\",\"serum_sodium\"] #NO TIENE TIME PORQ ES PARA LOS GRAFICOS"
      ],
      "outputs": [],
      "metadata": {}
    },
    {
      "cell_type": "code",
      "execution_count": 44,
      "source": [
        "from sklearn.preprocessing import MinMaxScaler\r\n",
        "df_normalized = df_orig.copy() #SI LA QUEREMOS LLAMAR USAR \"df_normalized\"\r\n",
        "to_normalize = props_continuas+[\"time\"]\r\n",
        "x = df_normalized[to_normalize].values\r\n",
        "x_scaled = MinMaxScaler().fit_transform(x)\r\n",
        "df_temp = pd.DataFrame(x_scaled, columns=to_normalize, index = df_normalized.index)\r\n",
        "df_normalized[to_normalize] = df_temp"
      ],
      "outputs": [],
      "metadata": {}
    },
    {
      "cell_type": "markdown",
      "source": [
        "##TENGO LA DATA LIMPIA Y AHORA?\n",
        "\n",
        "#### TODO ESTO ES UN RESUMEN GUIA, NO SON LOS DATASETS Q VAMOS A USAR"
      ],
      "metadata": {
        "id": "dKm2aWH-Ss-H"
      }
    },
    {
      "cell_type": "markdown",
      "source": [
        "### SEPARO EN TEST Y TRAIN\n",
        "\n",
        "\n"
      ],
      "metadata": {
        "id": "jnhs8z3FUrsv"
      }
    },
    {
      "cell_type": "code",
      "execution_count": 45,
      "source": [
        "from sklearn.model_selection import train_test_split\r\n",
        "\r\n",
        "feat_train, feat_test, targ_train, targ_test = train_test_split(df_normalized.drop([\"DEATH_EVENT\",\"time\"],axis=1),df_normalized[\"DEATH_EVENT\"],test_size=0.2)"
      ],
      "outputs": [],
      "metadata": {
        "id": "KL2gzDLH1v6E"
      }
    },
    {
      "cell_type": "markdown",
      "source": [
        "## REGRESION LINEAL"
      ],
      "metadata": {
        "id": "AzRuH-O3VCjA"
      }
    },
    {
      "cell_type": "code",
      "execution_count": 14,
      "source": [
        "from sklearn.linear_model import LinearRegression\r\n",
        "from sklearn.preprocessing import PolynomialFeatures\r\n",
        "from sklearn.pipeline import Pipeline\r\n",
        "\r\n",
        "grado = 1\r\n",
        "\r\n",
        "modelo = Pipeline([[\"poly\",PolynomialFeatures(degree=grado,include_bias=True)],[\"regressor\",LinearRegression(fit_intercept=False)]])\r\n",
        "\r\n",
        "modelo.fit(feat_train,targ_train)\r\n"
      ],
      "outputs": [
        {
          "output_type": "execute_result",
          "data": {
            "text/plain": [
              "Pipeline(steps=[('poly', PolynomialFeatures(degree=1)),\n",
              "                ['regressor', LinearRegression(fit_intercept=False)]])"
            ]
          },
          "metadata": {},
          "execution_count": 14
        }
      ],
      "metadata": {
        "colab": {
          "base_uri": "https://localhost:8080/"
        },
        "id": "UvTQH9EFVBzJ",
        "outputId": "463546b7-0349-45d2-96e6-b54632f17c9d"
      }
    },
    {
      "cell_type": "code",
      "execution_count": null,
      "source": [
        "modelo[\"regressor\"].coef_"
      ],
      "outputs": [],
      "metadata": {
        "id": "D19OyYGs3STh"
      }
    },
    {
      "cell_type": "code",
      "execution_count": 59,
      "source": [
        "from sklearn.metrics import mean_squared_error as mse\r\n",
        "\r\n",
        "np.sqrt(mse(targ_test,modelo.predict(feat_test)))"
      ],
      "outputs": [
        {
          "output_type": "execute_result",
          "data": {
            "text/plain": [
              "0.3743389714724081"
            ]
          },
          "metadata": {},
          "execution_count": 59
        }
      ],
      "metadata": {
        "colab": {
          "base_uri": "https://localhost:8080/"
        },
        "id": "EpT-r8DycsfX",
        "outputId": "2e7403ce-71b8-45f1-ac5c-60570d95bf5c"
      }
    },
    {
      "cell_type": "code",
      "execution_count": null,
      "source": [
        "from sklearn.model_selection import GridSearchCV\r\n",
        "\r\n",
        "hyperparam = {\"features__degree\":[n for n in range(1,6)]}\r\n",
        "#CUANDO HAGO GRILLA PONGO FEATURES\r\n",
        "modelo = Pipeline([[\"features\",PolynomialFeatures(degree=grado,include_bias=True)],[\"regressor\",LinearRegression(fit_intercept=False)]])\r\n",
        "grilla = GridSearchCV(modelo,hyperparam,refit=True,cv=len(feat_train),scoring=\"neg_mean_squared_error\",verbose=True,n_jobs=-1)\r\n",
        "grilla.fit(feat_train,targ_train)\r\n"
      ],
      "outputs": [],
      "metadata": {
        "colab": {
          "base_uri": "https://localhost:8080/"
        },
        "id": "v2ionql1Zh4l",
        "outputId": "2af6f0d1-6da1-40e1-c3df-063b6f87c109"
      }
    },
    {
      "cell_type": "code",
      "execution_count": null,
      "source": [
        "print(grilla.best_params_)"
      ],
      "outputs": [],
      "metadata": {
        "colab": {
          "base_uri": "https://localhost:8080/"
        },
        "id": "gcC3J4TIZ9Ec",
        "outputId": "430f0833-f5af-4b13-e17d-dd319231f534"
      }
    },
    {
      "cell_type": "code",
      "execution_count": null,
      "source": [
        "for ni, i in enumerate(grilla.cv_results_['params']):\r\n",
        "  print(i['features__degree'],-grilla.cv_results_['mean_test_score'][ni])\r\n",
        "plt.errorbar(grilla.cv_results_['param_features__degree'].data,np.sqrt(-grilla.cv_results_['mean_test_score']),yerr=grilla.cv_results_['std_test_score'])\r\n",
        "plt.yscale('log')\r\n",
        "plt.xlabel('grado')\r\n",
        "plt.ylabel('RMSE en validacion')"
      ],
      "outputs": [],
      "metadata": {
        "colab": {
          "base_uri": "https://localhost:8080/",
          "height": 382
        },
        "id": "-A97c0QofZWY",
        "outputId": "5d4923ad-480f-469e-e410-6ce06f854ede"
      }
    },
    {
      "cell_type": "code",
      "execution_count": null,
      "source": [
        "besthyper_model = grilla.best_estimator_\r\n",
        "\r\n",
        "np.sqrt(mse(targ_test,besthyper_model.predict(feat_test)))"
      ],
      "outputs": [],
      "metadata": {
        "colab": {
          "base_uri": "https://localhost:8080/"
        },
        "id": "I3H4o-3xcW0M",
        "outputId": "f8b57fea-0bfb-41b7-b166-effd7a9d621a"
      }
    },
    {
      "cell_type": "markdown",
      "source": [
        "# PRUEBA REGRESION LOGISTICA"
      ],
      "metadata": {}
    },
    {
      "cell_type": "code",
      "execution_count": 46,
      "source": [
        "from sklearn.linear_model import LogisticRegression"
      ],
      "outputs": [],
      "metadata": {}
    },
    {
      "cell_type": "code",
      "execution_count": 109,
      "source": [
        "from sklearn.linear_model import LinearRegression\r\n",
        "from sklearn.preprocessing import PolynomialFeatures\r\n",
        "from sklearn.pipeline import Pipeline\r\n",
        "\r\n",
        "grado = 5\r\n",
        "\r\n",
        "modelo = Pipeline([[\"poly\",PolynomialFeatures(degree=grado,include_bias=True)],[\"regressor\",LogisticRegression(fit_intercept=False, tol=0.0000001, penalty=\"l2\")]])\r\n",
        "\r\n",
        "modelo.fit(feat_train,targ_train)"
      ],
      "outputs": [
        {
          "output_type": "execute_result",
          "data": {
            "text/plain": [
              "Pipeline(steps=[('poly', PolynomialFeatures(degree=5)),\n",
              "                ['regressor',\n",
              "                 LogisticRegression(fit_intercept=False, tol=1e-07)]])"
            ]
          },
          "metadata": {},
          "execution_count": 109
        }
      ],
      "metadata": {
        "colab": {
          "base_uri": "https://localhost:8080/"
        },
        "id": "DUU6_bjP3k6l",
        "outputId": "eeb176b0-ffd4-48f3-b1dc-ceeae0173347"
      }
    },
    {
      "cell_type": "code",
      "execution_count": 100,
      "source": [
        "modelo[\"regressor\"].coef_"
      ],
      "outputs": [
        {
          "output_type": "execute_result",
          "data": {
            "text/plain": [
              "array([[-0.33142943, -0.00957463,  0.04674713, ..., -0.19134939,\n",
              "        -0.19134939, -0.01347039]])"
            ]
          },
          "metadata": {},
          "execution_count": 100
        }
      ],
      "metadata": {}
    },
    {
      "cell_type": "code",
      "execution_count": 110,
      "source": [
        "\r\n",
        "from sklearn.metrics import accuracy_score\r\n",
        "\r\n",
        "print(accuracy_score(targ_test, modelo.predict(feat_test)))"
      ],
      "outputs": [
        {
          "output_type": "stream",
          "name": "stdout",
          "text": [
            "0.6333333333333333\n"
          ]
        }
      ],
      "metadata": {
        "id": "vXBxg9TZ10vT"
      }
    },
    {
      "cell_type": "code",
      "execution_count": 111,
      "source": [
        "from sklearn.metrics import confusion_matrix\r\n",
        "cf=confusion_matrix(targ_test, modelo.predict(feat_test))\r\n",
        "print(cf)"
      ],
      "outputs": [
        {
          "output_type": "stream",
          "name": "stdout",
          "text": [
            "[[32  9]\n",
            " [13  6]]\n"
          ]
        }
      ],
      "metadata": {
        "id": "Ln97Fc7E2Y9z"
      }
    },
    {
      "cell_type": "code",
      "execution_count": 94,
      "source": [
        "from sklearn.model_selection import GridSearchCV\r\n",
        "\r\n",
        "hyperparam = {\"poly__degree\":[n for n in range(1,8)]}\r\n",
        "#CUANDO HAGO GRILLA PONGO FEATURES\r\n",
        "modelo = Pipeline([[\"poly\",PolynomialFeatures(degree=grado,include_bias=True)],[\"regressor\",LogisticRegression(fit_intercept=False, tol=0.0000001, penalty=\"l2\")]])\r\n",
        "grilla = GridSearchCV(modelo,hyperparam,refit=True,cv=100,scoring=\"f1\",verbose=True,n_jobs=-1)\r\n",
        "grilla.fit(feat_train,targ_train)"
      ],
      "outputs": [
        {
          "output_type": "stream",
          "name": "stdout",
          "text": [
            "Fitting 100 folds for each of 7 candidates, totalling 700 fits\n"
          ]
        },
        {
          "output_type": "stream",
          "name": "stderr",
          "text": [
            "C:\\Users\\Pier\\AppData\\Local\\Programs\\Python\\Python39\\lib\\site-packages\\sklearn\\model_selection\\_split.py:666: UserWarning: The least populated class in y has only 77 members, which is less than n_splits=100.\n",
            "  warnings.warn((\"The least populated class in y has only %d\"\n"
          ]
        },
        {
          "output_type": "execute_result",
          "data": {
            "text/plain": [
              "GridSearchCV(cv=100,\n",
              "             estimator=Pipeline(steps=[['poly', PolynomialFeatures(degree=4)],\n",
              "                                       ['regressor',\n",
              "                                        LogisticRegression(fit_intercept=False,\n",
              "                                                           tol=1e-07)]]),\n",
              "             n_jobs=-1, param_grid={'poly__degree': [1, 2, 3, 4, 5, 6, 7]},\n",
              "             scoring='f1', verbose=True)"
            ]
          },
          "metadata": {},
          "execution_count": 94
        }
      ],
      "metadata": {
        "id": "rRV9u4-9Sr8L"
      }
    },
    {
      "cell_type": "code",
      "execution_count": 95,
      "source": [
        "print(grilla.best_params_)"
      ],
      "outputs": [
        {
          "output_type": "stream",
          "name": "stdout",
          "text": [
            "{'poly__degree': 5}\n"
          ]
        }
      ],
      "metadata": {}
    },
    {
      "cell_type": "code",
      "execution_count": 97,
      "source": [
        "print(grilla.best_score_)"
      ],
      "outputs": [
        {
          "output_type": "stream",
          "name": "stdout",
          "text": [
            "0.27833333333333327\n"
          ]
        }
      ],
      "metadata": {}
    },
    {
      "cell_type": "code",
      "execution_count": null,
      "source": [],
      "outputs": [],
      "metadata": {}
    },
    {
      "cell_type": "code",
      "execution_count": 98,
      "source": [
        "modelo = grilla.best_estimator_\r\n",
        "from sklearn.metrics import confusion_matrix\r\n",
        "cf=confusion_matrix(targ_train, modelo.predict(feat_train))\r\n",
        "print(cf)"
      ],
      "outputs": [
        {
          "output_type": "stream",
          "name": "stdout",
          "text": [
            "[[155   7]\n",
            " [ 22  55]]\n"
          ]
        }
      ],
      "metadata": {}
    }
  ]
}