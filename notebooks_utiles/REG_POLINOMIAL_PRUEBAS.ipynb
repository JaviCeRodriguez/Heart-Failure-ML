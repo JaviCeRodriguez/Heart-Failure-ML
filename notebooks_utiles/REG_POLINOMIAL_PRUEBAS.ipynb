{
  "nbformat": 4,
  "nbformat_minor": 0,
  "metadata": {
    "colab": {
      "name": "REG POLINOMIAL PRUEBAS.ipynb",
      "provenance": [],
      "collapsed_sections": []
    },
    "kernelspec": {
      "name": "python3",
      "display_name": "Python 3"
    },
    "language_info": {
      "name": "python"
    }
  },
  "cells": [
    {
      "cell_type": "code",
      "metadata": {
        "id": "oYwfLsZg1JjC"
      },
      "source": [
        "import numpy as np\n",
        "import pandas as pd\n",
        "import seaborn as sns\n",
        "import matplotlib.pyplot as plt\n",
        "import sklearn\n",
        "import os\n",
        "\n"
      ],
      "execution_count": 2,
      "outputs": []
    },
    {
      "cell_type": "code",
      "metadata": {
        "id": "BUIBqyWrS190"
      },
      "source": [
        "df = pd.read_csv(r\"/content/drive/MyDrive/Colab Notebooks/heart_failure_clinical_records_dataset.csv\")"
      ],
      "execution_count": 3,
      "outputs": []
    },
    {
      "cell_type": "code",
      "metadata": {
        "id": "tV2ZIREnTAiz"
      },
      "source": [
        "df.head()"
      ],
      "execution_count": null,
      "outputs": []
    },
    {
      "cell_type": "markdown",
      "metadata": {
        "id": "dKm2aWH-Ss-H"
      },
      "source": [
        "##TENGO LA DATA LIMPIA Y AHORA?\n",
        "\n",
        "#### TODO ESTO ES UN RESUMEN GUIA, NO SON LOS DATASETS Q VAMOS A USAR"
      ]
    },
    {
      "cell_type": "markdown",
      "metadata": {
        "id": "jnhs8z3FUrsv"
      },
      "source": [
        "### SEPARO EN TEST Y TRAIN\n",
        "\n",
        "\n"
      ]
    },
    {
      "cell_type": "code",
      "metadata": {
        "id": "KL2gzDLH1v6E"
      },
      "source": [
        "from sklearn.model_selection import train_test_split\n",
        "\n",
        "feat_train, feat_test, targ_train, targ_test = train_test_split(df.drop([\"DEATH_EVENT\"],axis=1),df[\"DEATH_EVENT\"],test_size=0.2)"
      ],
      "execution_count": 7,
      "outputs": []
    },
    {
      "cell_type": "markdown",
      "metadata": {
        "id": "AzRuH-O3VCjA"
      },
      "source": [
        "### FORMA REGRESEAR"
      ]
    },
    {
      "cell_type": "code",
      "metadata": {
        "colab": {
          "base_uri": "https://localhost:8080/"
        },
        "id": "UvTQH9EFVBzJ",
        "outputId": "463546b7-0349-45d2-96e6-b54632f17c9d"
      },
      "source": [
        "from sklearn.linear_model import LinearRegression\n",
        "from sklearn.preprocessing import PolynomialFeatures\n",
        "from sklearn.pipeline import Pipeline\n",
        "\n",
        "grado = 1\n",
        "\n",
        "modelo = Pipeline([[\"poly\",PolynomialFeatures(degree=grado,include_bias=True)],[\"regressor\",LinearRegression(fit_intercept=False)]])\n",
        "\n",
        "modelo.fit(feat_train,targ_train)\n"
      ],
      "execution_count": 58,
      "outputs": [
        {
          "output_type": "execute_result",
          "data": {
            "text/plain": [
              "Pipeline(memory=None,\n",
              "         steps=[('poly',\n",
              "                 PolynomialFeatures(degree=1, include_bias=True,\n",
              "                                    interaction_only=False, order='C')),\n",
              "                ['regressor',\n",
              "                 LinearRegression(copy_X=True, fit_intercept=False, n_jobs=None,\n",
              "                                  normalize=False)]],\n",
              "         verbose=False)"
            ]
          },
          "metadata": {},
          "execution_count": 58
        }
      ]
    },
    {
      "cell_type": "code",
      "metadata": {
        "id": "D19OyYGs3STh"
      },
      "source": [
        "modelo[\"regressor\"].coef_"
      ],
      "execution_count": null,
      "outputs": []
    },
    {
      "cell_type": "code",
      "metadata": {
        "colab": {
          "base_uri": "https://localhost:8080/"
        },
        "id": "EpT-r8DycsfX",
        "outputId": "2e7403ce-71b8-45f1-ac5c-60570d95bf5c"
      },
      "source": [
        "from sklearn.metrics import mean_squared_error as mse\n",
        "\n",
        "np.sqrt(mse(targ_test,modelo.predict(feat_test)))"
      ],
      "execution_count": 59,
      "outputs": [
        {
          "output_type": "execute_result",
          "data": {
            "text/plain": [
              "0.3743389714724081"
            ]
          },
          "metadata": {},
          "execution_count": 59
        }
      ]
    },
    {
      "cell_type": "code",
      "metadata": {
        "colab": {
          "base_uri": "https://localhost:8080/"
        },
        "id": "v2ionql1Zh4l",
        "outputId": "2af6f0d1-6da1-40e1-c3df-063b6f87c109"
      },
      "source": [
        "from sklearn.model_selection import GridSearchCV\n",
        "\n",
        "hyperparam = {\"features__degree\":[n for n in range(1,6)]}\n",
        "#CUANDO HAGO GRILLA PONGO FEATURES\n",
        "modelo = Pipeline([[\"features\",PolynomialFeatures(degree=grado,include_bias=True)],[\"regressor\",LinearRegression(fit_intercept=False)]])\n",
        "grilla = GridSearchCV(modelo,hyperparam,refit=True,cv=len(feat_train),scoring=\"neg_mean_squared_error\",verbose=True,n_jobs=-1)\n",
        "grilla.fit(feat_train,targ_train)\n"
      ],
      "execution_count": 82,
      "outputs": [
        {
          "output_type": "stream",
          "name": "stdout",
          "text": [
            "Fitting 239 folds for each of 5 candidates, totalling 1195 fits\n"
          ]
        },
        {
          "output_type": "stream",
          "name": "stderr",
          "text": [
            "[Parallel(n_jobs=-1)]: Using backend LokyBackend with 2 concurrent workers.\n",
            "[Parallel(n_jobs=-1)]: Done 878 tasks      | elapsed:   12.8s\n",
            "[Parallel(n_jobs=-1)]: Done 1191 tasks      | elapsed:   46.5s\n",
            "[Parallel(n_jobs=-1)]: Done 1195 out of 1195 | elapsed:   46.8s finished\n"
          ]
        },
        {
          "output_type": "execute_result",
          "data": {
            "text/plain": [
              "GridSearchCV(cv=239, error_score=nan,\n",
              "             estimator=Pipeline(memory=None,\n",
              "                                steps=[['features',\n",
              "                                        PolynomialFeatures(degree=1,\n",
              "                                                           include_bias=True,\n",
              "                                                           interaction_only=False,\n",
              "                                                           order='C')],\n",
              "                                       ['regressor',\n",
              "                                        LinearRegression(copy_X=True,\n",
              "                                                         fit_intercept=False,\n",
              "                                                         n_jobs=None,\n",
              "                                                         normalize=False)]],\n",
              "                                verbose=False),\n",
              "             iid='deprecated', n_jobs=-1,\n",
              "             param_grid={'features__degree': [1, 2, 3, 4, 5]},\n",
              "             pre_dispatch='2*n_jobs', refit=True, return_train_score=False,\n",
              "             scoring='neg_mean_squared_error', verbose=True)"
            ]
          },
          "metadata": {},
          "execution_count": 82
        }
      ]
    },
    {
      "cell_type": "code",
      "metadata": {
        "colab": {
          "base_uri": "https://localhost:8080/"
        },
        "id": "gcC3J4TIZ9Ec",
        "outputId": "430f0833-f5af-4b13-e17d-dd319231f534"
      },
      "source": [
        "print(grilla.best_params_)"
      ],
      "execution_count": 83,
      "outputs": [
        {
          "output_type": "stream",
          "name": "stdout",
          "text": [
            "{'features__degree': 1}\n"
          ]
        }
      ]
    },
    {
      "cell_type": "code",
      "metadata": {
        "colab": {
          "base_uri": "https://localhost:8080/",
          "height": 382
        },
        "id": "-A97c0QofZWY",
        "outputId": "5d4923ad-480f-469e-e410-6ce06f854ede"
      },
      "source": [
        "for ni, i in enumerate(grilla.cv_results_['params']):\n",
        "  print(i['features__degree'],-grilla.cv_results_['mean_test_score'][ni])\n",
        "plt.errorbar(grilla.cv_results_['param_features__degree'].data,np.sqrt(-grilla.cv_results_['mean_test_score']),yerr=grilla.cv_results_['std_test_score'])\n",
        "plt.yscale('log')\n",
        "plt.xlabel('grado')\n",
        "plt.ylabel('RMSE en validacion')"
      ],
      "execution_count": 85,
      "outputs": [
        {
          "output_type": "stream",
          "name": "stdout",
          "text": [
            "1 0.1450161155301589\n",
            "2 0.22012380342353507\n",
            "3 18.47691344218542\n",
            "4 2396.4888133696545\n",
            "5 1010.4020576015844\n"
          ]
        },
        {
          "output_type": "execute_result",
          "data": {
            "text/plain": [
              "Text(0, 0.5, 'RMSE en validacion')"
            ]
          },
          "metadata": {},
          "execution_count": 85
        },
        {
          "output_type": "display_data",
          "data": {
            "image/png": "[encoded data removed]",
            "text/plain": [
              "<Figure size 432x288 with 1 Axes>"
            ]
          },
          "metadata": {
            "needs_background": "light"
          }
        }
      ]
    },
    {
      "cell_type": "code",
      "metadata": {
        "colab": {
          "base_uri": "https://localhost:8080/"
        },
        "id": "I3H4o-3xcW0M",
        "outputId": "f8b57fea-0bfb-41b7-b166-effd7a9d621a"
      },
      "source": [
        "besthyper_model = grilla.best_estimator_\n",
        "\n",
        "np.sqrt(mse(targ_test,besthyper_model.predict(feat_test)))"
      ],
      "execution_count": 84,
      "outputs": [
        {
          "output_type": "execute_result",
          "data": {
            "text/plain": [
              "0.3743389714724081"
            ]
          },
          "metadata": {},
          "execution_count": 84
        }
      ]
    },
    {
      "cell_type": "code",
      "metadata": {
        "colab": {
          "base_uri": "https://localhost:8080/"
        },
        "id": "DUU6_bjP3k6l",
        "outputId": "eeb176b0-ffd4-48f3-b1dc-ceeae0173347"
      },
      "source": [
        "\n"
      ],
      "execution_count": 54,
      "outputs": [
        {
          "output_type": "execute_result",
          "data": {
            "text/plain": [
              "0.3743389714724081"
            ]
          },
          "metadata": {},
          "execution_count": 54
        }
      ]
    },
    {
      "cell_type": "code",
      "metadata": {
        "id": "vXBxg9TZ10vT"
      },
      "source": [
        ""
      ],
      "execution_count": 1,
      "outputs": []
    },
    {
      "cell_type": "code",
      "metadata": {
        "id": "Ln97Fc7E2Y9z"
      },
      "source": [
        ""
      ],
      "execution_count": 1,
      "outputs": []
    },
    {
      "cell_type": "code",
      "metadata": {
        "id": "rRV9u4-9Sr8L"
      },
      "source": [
        ""
      ],
      "execution_count": null,
      "outputs": []
    }
  ]
}