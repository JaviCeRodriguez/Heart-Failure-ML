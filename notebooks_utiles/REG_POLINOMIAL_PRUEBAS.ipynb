{
  "nbformat": 4,
  "nbformat_minor": 2,
  "metadata": {
    "colab": {
      "name": "REG POLINOMIAL PRUEBAS.ipynb",
      "provenance": [],
      "collapsed_sections": []
    },
    "kernelspec": {
      "name": "python3",
      "display_name": "Python 3.9.6 64-bit"
    },
    "language_info": {
      "name": "python",
      "version": "3.9.6",
      "mimetype": "text/x-python",
      "codemirror_mode": {
        "name": "ipython",
        "version": 3
      },
      "pygments_lexer": "ipython3",
      "nbconvert_exporter": "python",
      "file_extension": ".py"
    },
    "interpreter": {
      "hash": "d9579fd63862c719ce91d1dd1fb1c44b2ef43bdaa2f86d843d9fd8562746d35b"
    }
  },
  "cells": [
    {
      "cell_type": "code",
      "execution_count": 1,
      "source": [
        "import numpy as np\r\n",
        "import pandas as pd\r\n",
        "import seaborn as sns\r\n",
        "import matplotlib.pyplot as plt\r\n",
        "import sklearn\r\n",
        "import os"
      ],
      "outputs": [],
      "metadata": {
        "id": "oYwfLsZg1JjC"
      }
    },
    {
      "cell_type": "code",
      "execution_count": 2,
      "source": [
        "df_orig = pd.read_csv(r\"C:\\Users\\Pier\\Documents\\GitHub\\Heart-Failure-ML\\heart_failure_clinical_records_dataset.csv\")"
      ],
      "outputs": [],
      "metadata": {
        "id": "BUIBqyWrS190"
      }
    },
    {
      "cell_type": "code",
      "execution_count": null,
      "source": [
        "df_orig.head()"
      ],
      "outputs": [],
      "metadata": {
        "id": "tV2ZIREnTAiz"
      }
    },
    {
      "cell_type": "code",
      "execution_count": 5,
      "source": [
        "props_binarias = [\"anaemia\",\"diabetes\",\"high_blood_pressure\",\"sex\",\"smoking\",\"DEATH_EVENT\"]\r\n",
        "props_continuas = [\"age\",\"creatinine_phosphokinase\",\"ejection_fraction\",\"platelets\",\"serum_creatinine\",\"serum_sodium\"] #NO TIENE TIME PORQ ES PARA LOS GRAFICOS"
      ],
      "outputs": [],
      "metadata": {}
    },
    {
      "cell_type": "code",
      "execution_count": 6,
      "source": [
        "from sklearn.preprocessing import MinMaxScaler\r\n",
        "df_normalized = df_orig.copy() #SI LA QUEREMOS LLAMAR USAR \"df_normalized\"\r\n",
        "to_normalize = props_continuas+[\"time\"]\r\n",
        "x = df_normalized[to_normalize].values\r\n",
        "x_scaled = MinMaxScaler().fit_transform(x)\r\n",
        "df_temp = pd.DataFrame(x_scaled, columns=to_normalize, index = df_normalized.index)\r\n",
        "df_normalized[to_normalize] = df_temp"
      ],
      "outputs": [],
      "metadata": {}
    },
    {
      "cell_type": "markdown",
      "source": [
        "## DEJAMOS SOLO LAS FEATURES CON MAS CORRELACION "
      ],
      "metadata": {}
    },
    {
      "cell_type": "code",
      "execution_count": 8,
      "source": [
        "df_normalized.drop([\"anaemia\",\"diabetes\",\"high_blood_pressure\",\"sex\",\"smoking\",\"creatinine_phosphokinase\",\"platelets\",\"time\"],axis=1,inplace=True)"
      ],
      "outputs": [],
      "metadata": {}
    },
    {
      "cell_type": "markdown",
      "source": [
        "##TENGO LA DATA LIMPIA Y AHORA?\n",
        "\n",
        "#### TODO ESTO ES UN RESUMEN GUIA, NO SON LOS DATASETS Q VAMOS A USAR"
      ],
      "metadata": {
        "id": "dKm2aWH-Ss-H"
      }
    },
    {
      "cell_type": "markdown",
      "source": [
        "### SEPARO EN TEST Y TRAIN\n",
        "\n",
        "\n"
      ],
      "metadata": {
        "id": "jnhs8z3FUrsv"
      }
    },
    {
      "cell_type": "code",
      "execution_count": 9,
      "source": [
        "from sklearn.model_selection import train_test_split\r\n",
        "\r\n",
        "feat_train, feat_test, targ_train, targ_test = train_test_split(df_normalized.drop([\"DEATH_EVENT\"],axis=1),df_normalized[\"DEATH_EVENT\"],test_size=0.2)"
      ],
      "outputs": [],
      "metadata": {
        "id": "KL2gzDLH1v6E"
      }
    },
    {
      "cell_type": "markdown",
      "source": [
        "## REGRESION LINEAL"
      ],
      "metadata": {
        "id": "AzRuH-O3VCjA"
      }
    },
    {
      "cell_type": "code",
      "execution_count": 10,
      "source": [
        "from sklearn.linear_model import LinearRegression\r\n",
        "from sklearn.preprocessing import PolynomialFeatures\r\n",
        "from sklearn.pipeline import Pipeline\r\n",
        "\r\n",
        "grado = 1\r\n",
        "\r\n",
        "modelo = Pipeline([[\"poly\",PolynomialFeatures(degree=grado,include_bias=True)],[\"regressor\",LinearRegression(fit_intercept=False)]])\r\n",
        "\r\n",
        "modelo.fit(feat_train,targ_train)\r\n"
      ],
      "outputs": [
        {
          "output_type": "execute_result",
          "data": {
            "text/plain": [
              "Pipeline(steps=[('poly', PolynomialFeatures(degree=1)),\n",
              "                ['regressor', LinearRegression(fit_intercept=False)]])"
            ]
          },
          "metadata": {},
          "execution_count": 10
        }
      ],
      "metadata": {
        "colab": {
          "base_uri": "https://localhost:8080/"
        },
        "id": "UvTQH9EFVBzJ",
        "outputId": "463546b7-0349-45d2-96e6-b54632f17c9d"
      }
    },
    {
      "cell_type": "code",
      "execution_count": null,
      "source": [
        "modelo[\"regressor\"].coef_"
      ],
      "outputs": [],
      "metadata": {
        "id": "D19OyYGs3STh"
      }
    },
    {
      "cell_type": "code",
      "execution_count": 59,
      "source": [
        "from sklearn.metrics import mean_squared_error as mse\r\n",
        "\r\n",
        "np.sqrt(mse(targ_test,modelo.predict(feat_test)))"
      ],
      "outputs": [
        {
          "output_type": "execute_result",
          "data": {
            "text/plain": [
              "0.3743389714724081"
            ]
          },
          "metadata": {},
          "execution_count": 59
        }
      ],
      "metadata": {
        "colab": {
          "base_uri": "https://localhost:8080/"
        },
        "id": "EpT-r8DycsfX",
        "outputId": "2e7403ce-71b8-45f1-ac5c-60570d95bf5c"
      }
    },
    {
      "cell_type": "code",
      "execution_count": null,
      "source": [
        "from sklearn.model_selection import GridSearchCV\r\n",
        "\r\n",
        "hyperparam = {\"features__degree\":[n for n in range(1,6)]}\r\n",
        "#CUANDO HAGO GRILLA PONGO FEATURES\r\n",
        "modelo = Pipeline([[\"features\",PolynomialFeatures(degree=grado,include_bias=True)],[\"regressor\",LinearRegression(fit_intercept=False)]])\r\n",
        "grilla = GridSearchCV(modelo,hyperparam,refit=True,cv=len(feat_train),scoring=\"neg_mean_squared_error\",verbose=True,n_jobs=-1)\r\n",
        "grilla.fit(feat_train,targ_train)\r\n"
      ],
      "outputs": [],
      "metadata": {
        "colab": {
          "base_uri": "https://localhost:8080/"
        },
        "id": "v2ionql1Zh4l",
        "outputId": "2af6f0d1-6da1-40e1-c3df-063b6f87c109"
      }
    },
    {
      "cell_type": "code",
      "execution_count": null,
      "source": [
        "print(grilla.best_params_)"
      ],
      "outputs": [],
      "metadata": {
        "colab": {
          "base_uri": "https://localhost:8080/"
        },
        "id": "gcC3J4TIZ9Ec",
        "outputId": "430f0833-f5af-4b13-e17d-dd319231f534"
      }
    },
    {
      "cell_type": "code",
      "execution_count": null,
      "source": [
        "for ni, i in enumerate(grilla.cv_results_['params']):\r\n",
        "  print(i['features__degree'],-grilla.cv_results_['mean_test_score'][ni])\r\n",
        "plt.errorbar(grilla.cv_results_['param_features__degree'].data,np.sqrt(-grilla.cv_results_['mean_test_score']),yerr=grilla.cv_results_['std_test_score'])\r\n",
        "plt.yscale('log')\r\n",
        "plt.xlabel('grado')\r\n",
        "plt.ylabel('RMSE en validacion')"
      ],
      "outputs": [],
      "metadata": {
        "colab": {
          "base_uri": "https://localhost:8080/",
          "height": 382
        },
        "id": "-A97c0QofZWY",
        "outputId": "5d4923ad-480f-469e-e410-6ce06f854ede"
      }
    },
    {
      "cell_type": "code",
      "execution_count": null,
      "source": [
        "besthyper_model = grilla.best_estimator_\r\n",
        "\r\n",
        "np.sqrt(mse(targ_test,besthyper_model.predict(feat_test)))"
      ],
      "outputs": [],
      "metadata": {
        "colab": {
          "base_uri": "https://localhost:8080/"
        },
        "id": "I3H4o-3xcW0M",
        "outputId": "f8b57fea-0bfb-41b7-b166-effd7a9d621a"
      }
    },
    {
      "cell_type": "markdown",
      "source": [
        "# PRUEBA REGRESION LOGISTICA"
      ],
      "metadata": {}
    },
    {
      "cell_type": "code",
      "execution_count": 11,
      "source": [
        "from sklearn.linear_model import LogisticRegression"
      ],
      "outputs": [],
      "metadata": {}
    },
    {
      "cell_type": "code",
      "execution_count": 49,
      "source": [
        "from sklearn.preprocessing import PolynomialFeatures\r\n",
        "from sklearn.pipeline import Pipeline\r\n",
        "\r\n",
        "grado = 7\r\n",
        "\r\n",
        "modelo = Pipeline([[\"poly\",PolynomialFeatures(degree=grado,include_bias=True)],[\"regressor\",LogisticRegression(fit_intercept=False, tol=0.0000001, penalty=\"l2\")]])\r\n",
        "\r\n",
        "modelo.fit(feat_train,targ_train)"
      ],
      "outputs": [
        {
          "output_type": "execute_result",
          "data": {
            "text/plain": [
              "Pipeline(steps=[('poly', PolynomialFeatures(degree=7)),\n",
              "                ['regressor',\n",
              "                 LogisticRegression(fit_intercept=False, tol=1e-07)]])"
            ]
          },
          "metadata": {},
          "execution_count": 49
        }
      ],
      "metadata": {
        "colab": {
          "base_uri": "https://localhost:8080/"
        },
        "id": "DUU6_bjP3k6l",
        "outputId": "eeb176b0-ffd4-48f3-b1dc-ceeae0173347"
      }
    },
    {
      "cell_type": "code",
      "execution_count": 53,
      "source": [
        "modelo.predict_proba(feat_test)"
      ],
      "outputs": [
        {
          "output_type": "execute_result",
          "data": {
            "text/plain": [
              "array([[0.86585646, 0.13414354],\n",
              "       [0.53574719, 0.46425281],\n",
              "       [0.90280205, 0.09719795],\n",
              "       [0.90815845, 0.09184155],\n",
              "       [0.79607595, 0.20392405],\n",
              "       [0.87981418, 0.12018582],\n",
              "       [0.8621211 , 0.1378789 ],\n",
              "       [0.83090593, 0.16909407],\n",
              "       [0.75277156, 0.24722844],\n",
              "       [0.40224735, 0.59775265],\n",
              "       [0.81692216, 0.18307784],\n",
              "       [0.7908202 , 0.2091798 ],\n",
              "       [0.72334315, 0.27665685],\n",
              "       [0.88791421, 0.11208579],\n",
              "       [0.83494462, 0.16505538],\n",
              "       [0.61601922, 0.38398078],\n",
              "       [0.80877475, 0.19122525],\n",
              "       [0.8381788 , 0.1618212 ],\n",
              "       [0.73090332, 0.26909668],\n",
              "       [0.02682954, 0.97317046],\n",
              "       [0.43359858, 0.56640142],\n",
              "       [0.09764957, 0.90235043],\n",
              "       [0.59272648, 0.40727352],\n",
              "       [0.83665814, 0.16334186],\n",
              "       [0.63619108, 0.36380892],\n",
              "       [0.77517592, 0.22482408],\n",
              "       [0.51003441, 0.48996559],\n",
              "       [0.76978529, 0.23021471],\n",
              "       [0.72337699, 0.27662301],\n",
              "       [0.38059951, 0.61940049],\n",
              "       [0.9201412 , 0.0798588 ],\n",
              "       [0.65462549, 0.34537451],\n",
              "       [0.78035579, 0.21964421],\n",
              "       [0.49375143, 0.50624857],\n",
              "       [0.75309784, 0.24690216],\n",
              "       [0.87697344, 0.12302656],\n",
              "       [0.05730505, 0.94269495],\n",
              "       [0.69130369, 0.30869631],\n",
              "       [0.58291039, 0.41708961],\n",
              "       [0.71305214, 0.28694786],\n",
              "       [0.50881604, 0.49118396],\n",
              "       [0.80629026, 0.19370974],\n",
              "       [0.70320926, 0.29679074],\n",
              "       [0.15621933, 0.84378067],\n",
              "       [0.47188968, 0.52811032],\n",
              "       [0.55548754, 0.44451246],\n",
              "       [0.41249703, 0.58750297],\n",
              "       [0.72494314, 0.27505686],\n",
              "       [0.81376621, 0.18623379],\n",
              "       [0.76811779, 0.23188221],\n",
              "       [0.82170756, 0.17829244],\n",
              "       [0.70776917, 0.29223083],\n",
              "       [0.64151042, 0.35848958],\n",
              "       [0.7947843 , 0.2052157 ],\n",
              "       [0.70992306, 0.29007694],\n",
              "       [0.66830636, 0.33169364],\n",
              "       [0.1829932 , 0.8170068 ],\n",
              "       [0.81750366, 0.18249634],\n",
              "       [0.49507901, 0.50492099],\n",
              "       [0.56605038, 0.43394962]])"
            ]
          },
          "metadata": {},
          "execution_count": 53
        }
      ],
      "metadata": {}
    },
    {
      "cell_type": "code",
      "execution_count": 25,
      "source": [
        "modelo[\"regressor\"].coef_"
      ],
      "outputs": [
        {
          "output_type": "execute_result",
          "data": {
            "text/plain": [
              "array([[ 9.46001265e-02,  3.75356205e-01, -1.52331760e+00,\n",
              "         9.14540453e-01, -4.18628222e-01,  4.27026732e-01,\n",
              "        -3.41187519e-01,  3.44996559e-01,  1.19134079e-01,\n",
              "        -3.49951883e-01,  2.27529302e-01, -1.06873244e+00,\n",
              "         1.78660751e-01,  5.95100476e-01, -3.86075090e-01,\n",
              "         4.70766937e-01, -2.48138298e-02,  1.56880448e-01,\n",
              "         1.79205277e-01, -2.43463725e-02,  7.36319411e-02,\n",
              "        -1.98521243e-01,  5.74035610e-02,  2.26672315e-01,\n",
              "         2.49265392e-02,  1.59103418e-01,  1.59750802e-01,\n",
              "        -2.55457904e-01,  1.27027712e-01,  1.84542715e-01,\n",
              "        -6.98122750e-01,  6.35900280e-02,  1.75609788e-01,\n",
              "         4.34826872e-01, -1.87748215e-01,  4.55909769e-01,\n",
              "         1.00980756e-01,  8.90777085e-02,  1.98006699e-01,\n",
              "         3.63717872e-02,  2.07680417e-02, -1.12607014e-02,\n",
              "         1.68086837e-02,  9.56690064e-02,  5.48715005e-02,\n",
              "         1.07126639e-01,  3.80422210e-02,  1.11769196e-02,\n",
              "         3.34352645e-02,  6.48194361e-02, -1.15686281e-01,\n",
              "         1.31747460e-02,  5.65617710e-02,  1.64941273e-01,\n",
              "         1.27078021e-02,  2.85719953e-01,  1.31139332e-01,\n",
              "         9.29483970e-02,  1.04888703e-01,  1.30011564e-01,\n",
              "        -1.44143162e-01,  9.23782762e-02,  1.21707065e-01,\n",
              "         1.60225394e-01, -4.06866653e-01,  6.20678949e-02,\n",
              "         9.35199973e-02,  1.65469355e-01,  3.43731479e-01,\n",
              "        -3.79638009e-03,  4.13262095e-01,  1.43790594e-01,\n",
              "         5.69834125e-02,  1.85208004e-01,  6.06237142e-02,\n",
              "         4.38724725e-03,  5.07424408e-02,  5.19550598e-03,\n",
              "         4.66300746e-02,  5.48631615e-02,  5.95704836e-02,\n",
              "         8.62111812e-05,  3.70195352e-02,  4.41743773e-03,\n",
              "         1.75567622e-02, -7.72349227e-03, -4.57711639e-04,\n",
              "         1.59213523e-02,  6.48949466e-02,  9.13395234e-04,\n",
              "         1.28356311e-01,  2.75730291e-02,  8.89438891e-02,\n",
              "         2.44359765e-02,  3.71383806e-02,  2.83762727e-02,\n",
              "         2.43232435e-02,  3.49568497e-02,  5.74918251e-02,\n",
              "        -5.22621970e-02,  1.26786409e-02,  2.62193847e-02,\n",
              "         5.46389440e-02,  1.29996481e-01,  2.24939040e-02,\n",
              "         2.76775170e-01,  1.06464257e-01,  1.83812368e-01,\n",
              "         8.52224153e-02,  1.04061323e-01,  8.53941030e-02,\n",
              "         8.46334906e-02,  9.36059258e-02,  1.14283538e-01,\n",
              "        -4.98971014e-02,  8.16772726e-02,  9.05747769e-02,\n",
              "         1.12005657e-01,  1.45638378e-01, -1.99936974e-01,\n",
              "         6.88099872e-02,  7.81026269e-02,  1.00005191e-01,\n",
              "         1.50763309e-01,  2.84353255e-01,  1.30793326e-01,\n",
              "         3.63069512e-01,  1.51427455e-01,  3.87914366e-02,\n",
              "         1.61266226e-01,  6.82654719e-02, -1.19629187e-03,\n",
              "         6.79409955e-02,  1.14535926e-03,  2.46758314e-02,\n",
              "         4.18500078e-02,  4.19764796e-02, -1.03497444e-02,\n",
              "         4.00286761e-02, -3.71716183e-03,  1.05792627e-03,\n",
              "         2.14466589e-02, -2.45566693e-03,  3.02404854e-03,\n",
              "         2.63300524e-02, -1.51785010e-02,  5.54316346e-02,\n",
              "        -3.53374296e-03,  4.86950513e-02,  1.05409380e-03,\n",
              "         3.61451841e-03,  3.26802364e-02,  4.61235776e-03,\n",
              "         6.53713903e-03,  1.56615902e-02,  3.85167744e-04,\n",
              "         7.22627877e-04,  5.54088885e-03,  1.59020931e-02,\n",
              "         4.86870733e-02, -2.04091465e-02,  1.13599238e-01,\n",
              "         2.19373034e-02,  9.63821925e-02,  1.90220422e-02,\n",
              "         2.65342166e-02,  7.48751629e-02,  2.22796095e-02,\n",
              "         2.46544699e-02,  3.54077059e-02,  4.19972902e-02,\n",
              "         2.19700005e-02,  2.61271344e-02,  3.40185223e-02,\n",
              "         5.31742031e-02, -6.76767067e-03,  1.58725442e-02,\n",
              "         2.14257633e-02,  3.07969003e-02,  5.12545963e-02,\n",
              "         1.08081880e-01,  3.49960513e-02,  2.32017154e-01,\n",
              "         8.55241361e-02,  1.82279565e-01,  6.92284703e-02,\n",
              "         8.31981730e-02,  1.40873436e-01,  7.16225242e-02,\n",
              "         7.29532925e-02,  8.95512066e-02,  9.13000385e-02,\n",
              "         7.43354707e-02,  7.48927718e-02,  8.35180912e-02,\n",
              "         1.04098186e-01,  1.76024758e-02,  7.50375791e-02,\n",
              "         7.53540108e-02,  8.34454909e-02,  1.01720911e-01,\n",
              "         1.34458005e-01, -5.94200070e-02,  7.10744412e-02,\n",
              "         7.09788712e-02,  7.87621837e-02,  9.61978873e-02,\n",
              "         1.35465169e-01,  2.42753734e-01,  2.17796108e-01]])"
            ]
          },
          "metadata": {},
          "execution_count": 25
        }
      ],
      "metadata": {}
    },
    {
      "cell_type": "code",
      "execution_count": 32,
      "source": [
        "\r\n",
        "from sklearn.metrics import accuracy_score\r\n",
        "\r\n",
        "print(accuracy_score(targ_test, modelo.predict(feat_test)))"
      ],
      "outputs": [
        {
          "output_type": "stream",
          "name": "stdout",
          "text": [
            "0.8166666666666667\n"
          ]
        }
      ],
      "metadata": {
        "id": "vXBxg9TZ10vT"
      }
    },
    {
      "cell_type": "code",
      "execution_count": 34,
      "source": [
        "from sklearn.metrics import confusion_matrix\r\n",
        "cf=confusion_matrix(targ_test, modelo.predict(feat_test))\r\n",
        "print(cf)"
      ],
      "outputs": [
        {
          "output_type": "stream",
          "name": "stdout",
          "text": [
            "[[40  3]\n",
            " [ 8  9]]\n"
          ]
        }
      ],
      "metadata": {
        "id": "Ln97Fc7E2Y9z"
      }
    },
    {
      "cell_type": "code",
      "execution_count": 98,
      "source": [
        "from sklearn.model_selection import GridSearchCV\r\n",
        "\r\n",
        "hyperparam = {\"poly__degree\":[n for n in range(1,10)]}\r\n",
        "#CUANDO HAGO GRILLA PONGO FEATURES\r\n",
        "modelo = Pipeline([[\"poly\",PolynomialFeatures(degree=grado,include_bias=True)],[\"regressor\",LogisticRegression(fit_intercept=False, tol=0.00001, penalty=\"l2\")]])\r\n",
        "grilla = GridSearchCV(modelo,hyperparam,refit=True,cv=160,scoring=\"f1\",verbose=True,n_jobs=-1)\r\n",
        "grilla.fit(feat_train,targ_train)"
      ],
      "outputs": [
        {
          "output_type": "stream",
          "name": "stdout",
          "text": [
            "Fitting 160 folds for each of 9 candidates, totalling 1440 fits\n"
          ]
        },
        {
          "output_type": "stream",
          "name": "stderr",
          "text": [
            "C:\\Users\\Pier\\AppData\\Local\\Programs\\Python\\Python39\\lib\\site-packages\\sklearn\\model_selection\\_split.py:666: UserWarning: The least populated class in y has only 79 members, which is less than n_splits=160.\n",
            "  warnings.warn((\"The least populated class in y has only %d\"\n"
          ]
        },
        {
          "output_type": "execute_result",
          "data": {
            "text/plain": [
              "GridSearchCV(cv=160,\n",
              "             estimator=Pipeline(steps=[['poly', PolynomialFeatures(degree=7)],\n",
              "                                       ['regressor',\n",
              "                                        LogisticRegression(fit_intercept=False,\n",
              "                                                           tol=1e-05)]]),\n",
              "             n_jobs=-1,\n",
              "             param_grid={'poly__degree': [1, 2, 3, 4, 5, 6, 7, 8, 9]},\n",
              "             scoring='f1', verbose=True)"
            ]
          },
          "metadata": {},
          "execution_count": 98
        }
      ],
      "metadata": {
        "id": "rRV9u4-9Sr8L"
      }
    },
    {
      "cell_type": "code",
      "execution_count": 99,
      "source": [
        "print(grilla.best_params_)"
      ],
      "outputs": [
        {
          "output_type": "stream",
          "name": "stdout",
          "text": [
            "{'poly__degree': 7}\n"
          ]
        }
      ],
      "metadata": {}
    },
    {
      "cell_type": "code",
      "execution_count": 100,
      "source": [
        "print(grilla.best_score_)"
      ],
      "outputs": [
        {
          "output_type": "stream",
          "name": "stdout",
          "text": [
            "0.13958333333333334\n"
          ]
        }
      ],
      "metadata": {}
    },
    {
      "cell_type": "code",
      "execution_count": 105,
      "source": [
        "modelo = grilla.best_estimator_\r\n",
        "from sklearn.metrics import confusion_matrix\r\n",
        "from sklearn.metrics import confusion_matrix, ConfusionMatrixDisplay\r\n",
        "\r\n",
        "print(accuracy_score(targ_test, modelo.predict(feat_test)))\r\n",
        "cm = confusion_matrix(targ_test, modelo.predict(feat_test))\r\n",
        "disp = ConfusionMatrixDisplay(confusion_matrix=cm)\r\n",
        "disp.plot()\r\n",
        "#print(cf)"
      ],
      "outputs": [
        {
          "output_type": "stream",
          "name": "stdout",
          "text": [
            "0.8166666666666667\n"
          ]
        },
        {
          "output_type": "execute_result",
          "data": {
            "text/plain": [
              "<sklearn.metrics._plot.confusion_matrix.ConfusionMatrixDisplay at 0x1b17934f940>"
            ]
          },
          "metadata": {},
          "execution_count": 105
        },
        {
          "output_type": "display_data",
          "data": {
            "image/png": "[encoded data removed]",
            "text/plain": [
              "<Figure size 432x288 with 2 Axes>"
            ]
          },
          "metadata": {
            "needs_background": "light"
          }
        }
      ],
      "metadata": {}
    },
    {
      "cell_type": "code",
      "execution_count": 106,
      "source": [
        "from sklearn.metrics import precision_recall_curve, auc, roc_auc_score, plot_precision_recall_curve\r\n",
        "from sklearn.metrics import plot_roc_curve, roc_curve"
      ],
      "outputs": [],
      "metadata": {}
    },
    {
      "cell_type": "code",
      "execution_count": 107,
      "source": [
        "plot_precision_recall_curve(modelo, feat_test, targ_test)"
      ],
      "outputs": [
        {
          "output_type": "execute_result",
          "data": {
            "text/plain": [
              "<sklearn.metrics._plot.precision_recall_curve.PrecisionRecallDisplay at 0x1b1794faa00>"
            ]
          },
          "metadata": {},
          "execution_count": 107
        },
        {
          "output_type": "display_data",
          "data": {
            "image/png": "[encoded data removed]",
            "text/plain": [
              "<Figure size 432x288 with 1 Axes>"
            ]
          },
          "metadata": {
            "needs_background": "light"
          }
        }
      ],
      "metadata": {}
    },
    {
      "cell_type": "code",
      "execution_count": 108,
      "source": [
        "plot_roc_curve(modelo, feat_test, targ_test)"
      ],
      "outputs": [
        {
          "output_type": "execute_result",
          "data": {
            "text/plain": [
              "<sklearn.metrics._plot.roc_curve.RocCurveDisplay at 0x1b1793dbd60>"
            ]
          },
          "metadata": {},
          "execution_count": 108
        },
        {
          "output_type": "display_data",
          "data": {
            "image/png": "[encoded data removed]",
            "text/plain": [
              "<Figure size 432x288 with 1 Axes>"
            ]
          },
          "metadata": {
            "needs_background": "light"
          }
        }
      ],
      "metadata": {}
    }
  ]
}