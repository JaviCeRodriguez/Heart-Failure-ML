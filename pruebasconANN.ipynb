{
 "cells": [
  {
   "cell_type": "markdown",
   "metadata": {},
   "source": [
    "# classification es el notebook oficial de clasificación\n",
    "\n",
    "### - Limpiamos los datos según conclusiones del notebook main\n",
    "### - Probaremos distintos algorítmos de clasificación y compararemos los resultados\n",
    "### - Utilizamos el dataset de train ya recortado por la cátedra\n",
    "\n",
    "---\n",
    "\n",
    "\n",
    "\n"
   ]
  },
  {
   "cell_type": "markdown",
   "metadata": {},
   "source": [
    "## ACA TODOS LOS IMPORTS DEL NOTEBOOK"
   ]
  },
  {
   "cell_type": "code",
   "execution_count": 1,
   "metadata": {},
   "outputs": [],
   "source": [
    "import numpy as np\n",
    "import pandas as pd\n",
    "import seaborn as sns\n",
    "import matplotlib.pyplot as plt\n",
    "import tensorflow as tf\n",
    "from tensorflow import keras\n",
    "from imblearn.over_sampling import SMOTE\n",
    "from sklearn.model_selection import train_test_split, GridSearchCV, cross_val_score, cross_val_predict, validation_curve\n",
    "from sklearn.preprocessing import StandardScaler\n",
    "from sklearn.metrics import confusion_matrix, ConfusionMatrixDisplay, precision_recall_curve, auc, roc_curve"
   ]
  },
  {
   "cell_type": "markdown",
   "metadata": {},
   "source": [
    "## LECTURA Y LIMPIEZA DEL DATASET"
   ]
  },
  {
   "cell_type": "code",
   "execution_count": 2,
   "metadata": {},
   "outputs": [
    {
     "data": {
      "text/plain": [
       "(239, 13)"
      ]
     },
     "execution_count": 2,
     "metadata": {},
     "output_type": "execute_result"
    }
   ],
   "source": [
    "df_orig = pd.read_csv(r\"DS_G3_HeartFailure_FULL_train.csv\",index_col=0)  #datos de entrenamiento (80% del dataset original)\n",
    "df_orig.shape"
   ]
  },
  {
   "cell_type": "markdown",
   "metadata": {},
   "source": [
    "## Transformaciones necesarias al df"
   ]
  },
  {
   "cell_type": "code",
   "execution_count": 3,
   "metadata": {},
   "outputs": [
    {
     "data": {
      "text/html": [
       "<div>\n",
       "<style scoped>\n",
       "    .dataframe tbody tr th:only-of-type {\n",
       "        vertical-align: middle;\n",
       "    }\n",
       "\n",
       "    .dataframe tbody tr th {\n",
       "        vertical-align: top;\n",
       "    }\n",
       "\n",
       "    .dataframe thead th {\n",
       "        text-align: right;\n",
       "    }\n",
       "</style>\n",
       "<table border=\"1\" class=\"dataframe\">\n",
       "  <thead>\n",
       "    <tr style=\"text-align: right;\">\n",
       "      <th></th>\n",
       "      <th>age</th>\n",
       "      <th>creatinine_phosphokinase</th>\n",
       "      <th>ejection_fraction</th>\n",
       "      <th>platelets</th>\n",
       "      <th>serum_creatinine</th>\n",
       "      <th>serum_sodium</th>\n",
       "      <th>DEATH_EVENT</th>\n",
       "    </tr>\n",
       "  </thead>\n",
       "  <tbody>\n",
       "    <tr>\n",
       "      <th>55</th>\n",
       "      <td>95.0</td>\n",
       "      <td>371</td>\n",
       "      <td>30</td>\n",
       "      <td>461000.0</td>\n",
       "      <td>2.0</td>\n",
       "      <td>132</td>\n",
       "      <td>1</td>\n",
       "    </tr>\n",
       "    <tr>\n",
       "      <th>180</th>\n",
       "      <td>40.0</td>\n",
       "      <td>478</td>\n",
       "      <td>30</td>\n",
       "      <td>303000.0</td>\n",
       "      <td>0.9</td>\n",
       "      <td>136</td>\n",
       "      <td>0</td>\n",
       "    </tr>\n",
       "    <tr>\n",
       "      <th>237</th>\n",
       "      <td>70.0</td>\n",
       "      <td>232</td>\n",
       "      <td>30</td>\n",
       "      <td>173000.0</td>\n",
       "      <td>1.2</td>\n",
       "      <td>132</td>\n",
       "      <td>0</td>\n",
       "    </tr>\n",
       "    <tr>\n",
       "      <th>280</th>\n",
       "      <td>70.0</td>\n",
       "      <td>2695</td>\n",
       "      <td>40</td>\n",
       "      <td>241000.0</td>\n",
       "      <td>1.0</td>\n",
       "      <td>137</td>\n",
       "      <td>0</td>\n",
       "    </tr>\n",
       "    <tr>\n",
       "      <th>181</th>\n",
       "      <td>59.0</td>\n",
       "      <td>176</td>\n",
       "      <td>25</td>\n",
       "      <td>221000.0</td>\n",
       "      <td>1.0</td>\n",
       "      <td>136</td>\n",
       "      <td>1</td>\n",
       "    </tr>\n",
       "  </tbody>\n",
       "</table>\n",
       "</div>"
      ],
      "text/plain": [
       "      age  creatinine_phosphokinase  ejection_fraction  platelets  \\\n",
       "55   95.0                       371                 30   461000.0   \n",
       "180  40.0                       478                 30   303000.0   \n",
       "237  70.0                       232                 30   173000.0   \n",
       "280  70.0                      2695                 40   241000.0   \n",
       "181  59.0                       176                 25   221000.0   \n",
       "\n",
       "     serum_creatinine  serum_sodium  DEATH_EVENT  \n",
       "55                2.0           132            1  \n",
       "180               0.9           136            0  \n",
       "237               1.2           132            0  \n",
       "280               1.0           137            0  \n",
       "181               1.0           136            1  "
      ]
     },
     "execution_count": 3,
     "metadata": {},
     "output_type": "execute_result"
    }
   ],
   "source": [
    "df_cleaned = df_orig.drop([\"time\",\"anaemia\",\"diabetes\",\"high_blood_pressure\",\"sex\",\"smoking\"],axis=1)\n",
    "\n",
    "#df_cleaned = df_orig.drop([\"anaemia\",\"diabetes\",\"high_blood_pressure\",\"sex\",\"smoking\"],axis=1)\n",
    "# NOS QUEDAMOS CON AGE, CREATININE_PHOSPHOKINASE, EJECTION_FRACTION, PLATELETS, SERUM_CREATININE, SERUM_SODIUM Y DEATH_EVENT\n",
    "df_cleaned.head()"
   ]
  },
  {
   "cell_type": "code",
   "execution_count": 4,
   "metadata": {},
   "outputs": [
    {
     "name": "stdout",
     "output_type": "stream",
     "text": [
      "(239, 6)\n",
      "(239,)\n"
     ]
    }
   ],
   "source": [
    "feat_train, targ_train = df_cleaned.drop([\"DEATH_EVENT\"],axis=1),df_cleaned[\"DEATH_EVENT\"]"
   ]
  },
  {
   "cell_type": "code",
   "execution_count": 5,
   "metadata": {},
   "outputs": [
    {
     "name": "stdout",
     "output_type": "stream",
     "text": [
      "163\n",
      "76\n",
      "163\n",
      "163\n"
     ]
    }
   ],
   "source": [
    "scaler = StandardScaler()\n",
    "feat_train = scaler.fit_transform(feat_train)\n",
    "#APLICAMOS SMOTE PARA AUMENTAR LA CANTIDAD DE SAMPLES Y BALANCEAR EL TARGET\n",
    "feat_train, targ_train = SMOTE(random_state=420).fit_resample(feat_train, targ_train)\n",
    "feat_train.shape"
   ]
  },
  {
   "cell_type": "code",
   "execution_count": 266,
   "metadata": {},
   "outputs": [],
   "source": [
    "feat_train, feat_val, targ_train, targ_val = train_test_split(feat_train,targ_train,random_state=420,test_size=0.2)"
   ]
  },
  {
   "cell_type": "markdown",
   "metadata": {},
   "source": [
    "## ACA TENEMOS EL DATASET RECORTADO Y STANDARIZADO "
   ]
  },
  {
   "cell_type": "code",
   "execution_count": 6,
   "metadata": {},
   "outputs": [],
   "source": [
    "score_metric = \"recall\" # Queremos pocos FN, es decir pacientes q decimos q NO tienen riesgo pero SI."
   ]
  },
  {
   "cell_type": "markdown",
   "metadata": {},
   "source": [
    "---"
   ]
  },
  {
   "cell_type": "markdown",
   "metadata": {},
   "source": [
    "# RED NEURONAL SIMPLE"
   ]
  },
  {
   "cell_type": "code",
   "execution_count": 302,
   "metadata": {},
   "outputs": [],
   "source": [
    "keras.backend.clear_session()"
   ]
  },
  {
   "cell_type": "code",
   "execution_count": 303,
   "metadata": {},
   "outputs": [],
   "source": [
    "input = keras.layers.Input(shape=[6,])\n",
    "flatten = keras.layers.Flatten()(input)\n",
    "hidden1 = keras.layers.Dense(100, activation=\"relu\",kernel_initializer='he_uniform')(flatten)\n",
    "dropout = keras.layers.Dropout(rate=0.2)(hidden1)\n",
    "hidden2 = keras.layers.Dense(100, activation=\"relu\",kernel_initializer='he_uniform')(hidden1)\n",
    "output = keras.layers.Dense(1, activation=\"sigmoid\")(hidden2)\n",
    "\n",
    "model = keras.models.Model(inputs=[input], outputs=[output])"
   ]
  },
  {
   "cell_type": "code",
   "execution_count": 309,
   "metadata": {},
   "outputs": [
    {
     "name": "stdout",
     "output_type": "stream",
     "text": [
      "Model: \"model\"\n",
      "_________________________________________________________________\n",
      "Layer (type)                 Output Shape              Param #   \n",
      "=================================================================\n",
      "input_1 (InputLayer)         [(None, 6)]               0         \n",
      "_________________________________________________________________\n",
      "flatten (Flatten)            (None, 6)                 0         \n",
      "_________________________________________________________________\n",
      "dense (Dense)                (None, 100)               700       \n",
      "_________________________________________________________________\n",
      "dense_1 (Dense)              (None, 100)               10100     \n",
      "_________________________________________________________________\n",
      "dense_2 (Dense)              (None, 1)                 101       \n",
      "=================================================================\n",
      "Total params: 10,901\n",
      "Trainable params: 10,901\n",
      "Non-trainable params: 0\n",
      "_________________________________________________________________\n"
     ]
    }
   ],
   "source": [
    "model.compile(loss=tf.keras.losses.BinaryCrossentropy(),\n",
    "              optimizer=keras.optimizers.Adam(learning_rate=5e-5),\n",
    "              metrics=[\"accuracy\",tf.keras.metrics.Recall()])\n",
    "model.summary()"
   ]
  },
  {
   "cell_type": "code",
   "execution_count": 310,
   "metadata": {},
   "outputs": [
    {
     "name": "stdout",
     "output_type": "stream",
     "text": [
      "Epoch 1/2000\n",
      "9/9 [==============================] - 0s 18ms/step - loss: 0.1970 - accuracy: 0.9423 - recall_1: 0.9435 - val_loss: 0.5150 - val_accuracy: 0.8333 - val_recall_1: 0.9231\n",
      "Epoch 2/2000\n",
      "9/9 [==============================] - 0s 2ms/step - loss: 0.1953 - accuracy: 0.9462 - recall_1: 0.9435 - val_loss: 0.5186 - val_accuracy: 0.8030 - val_recall_1: 0.8718\n",
      "Epoch 3/2000\n",
      "9/9 [==============================] - 0s 2ms/step - loss: 0.1950 - accuracy: 0.9500 - recall_1: 0.9435 - val_loss: 0.5193 - val_accuracy: 0.8030 - val_recall_1: 0.8718\n",
      "Epoch 4/2000\n",
      "9/9 [==============================] - 0s 2ms/step - loss: 0.1947 - accuracy: 0.9500 - recall_1: 0.9435 - val_loss: 0.5192 - val_accuracy: 0.8182 - val_recall_1: 0.8974\n",
      "Epoch 5/2000\n",
      "9/9 [==============================] - 0s 3ms/step - loss: 0.1947 - accuracy: 0.9462 - recall_1: 0.9435 - val_loss: 0.5216 - val_accuracy: 0.8030 - val_recall_1: 0.8718\n",
      "Epoch 6/2000\n",
      "9/9 [==============================] - 0s 3ms/step - loss: 0.1941 - accuracy: 0.9423 - recall_1: 0.9435 - val_loss: 0.5196 - val_accuracy: 0.8030 - val_recall_1: 0.8718\n",
      "Epoch 7/2000\n",
      "9/9 [==============================] - 0s 3ms/step - loss: 0.1940 - accuracy: 0.9423 - recall_1: 0.9435 - val_loss: 0.5187 - val_accuracy: 0.8182 - val_recall_1: 0.8974\n",
      "Epoch 8/2000\n",
      "9/9 [==============================] - 0s 3ms/step - loss: 0.1939 - accuracy: 0.9423 - recall_1: 0.9435 - val_loss: 0.5190 - val_accuracy: 0.8182 - val_recall_1: 0.8974\n",
      "Epoch 9/2000\n",
      "9/9 [==============================] - 0s 3ms/step - loss: 0.1935 - accuracy: 0.9423 - recall_1: 0.9435 - val_loss: 0.5196 - val_accuracy: 0.8182 - val_recall_1: 0.8974\n",
      "Epoch 10/2000\n",
      "9/9 [==============================] - 0s 2ms/step - loss: 0.1932 - accuracy: 0.9462 - recall_1: 0.9435 - val_loss: 0.5204 - val_accuracy: 0.8030 - val_recall_1: 0.8718\n",
      "Epoch 11/2000\n",
      "9/9 [==============================] - 0s 3ms/step - loss: 0.1929 - accuracy: 0.9462 - recall_1: 0.9435 - val_loss: 0.5232 - val_accuracy: 0.8030 - val_recall_1: 0.8718\n",
      "Epoch 12/2000\n",
      "9/9 [==============================] - 0s 3ms/step - loss: 0.1927 - accuracy: 0.9462 - recall_1: 0.9435 - val_loss: 0.5240 - val_accuracy: 0.8030 - val_recall_1: 0.8718\n",
      "Epoch 13/2000\n",
      "9/9 [==============================] - 0s 3ms/step - loss: 0.1927 - accuracy: 0.9462 - recall_1: 0.9435 - val_loss: 0.5251 - val_accuracy: 0.8030 - val_recall_1: 0.8718\n",
      "Epoch 14/2000\n",
      "9/9 [==============================] - 0s 2ms/step - loss: 0.1926 - accuracy: 0.9500 - recall_1: 0.9435 - val_loss: 0.5266 - val_accuracy: 0.8030 - val_recall_1: 0.8718\n",
      "Epoch 15/2000\n",
      "9/9 [==============================] - 0s 2ms/step - loss: 0.1924 - accuracy: 0.9500 - recall_1: 0.9435 - val_loss: 0.5247 - val_accuracy: 0.8182 - val_recall_1: 0.8718\n",
      "Epoch 16/2000\n",
      "9/9 [==============================] - 0s 3ms/step - loss: 0.1920 - accuracy: 0.9538 - recall_1: 0.9435 - val_loss: 0.5253 - val_accuracy: 0.8182 - val_recall_1: 0.8718\n",
      "Epoch 17/2000\n",
      "9/9 [==============================] - 0s 3ms/step - loss: 0.1919 - accuracy: 0.9538 - recall_1: 0.9435 - val_loss: 0.5244 - val_accuracy: 0.8030 - val_recall_1: 0.8718\n",
      "Epoch 18/2000\n",
      "9/9 [==============================] - 0s 3ms/step - loss: 0.1918 - accuracy: 0.9500 - recall_1: 0.9435 - val_loss: 0.5211 - val_accuracy: 0.8030 - val_recall_1: 0.8718\n",
      "Epoch 19/2000\n",
      "9/9 [==============================] - 0s 3ms/step - loss: 0.1916 - accuracy: 0.9462 - recall_1: 0.9435 - val_loss: 0.5203 - val_accuracy: 0.8030 - val_recall_1: 0.8718\n",
      "Epoch 20/2000\n",
      "9/9 [==============================] - 0s 3ms/step - loss: 0.1914 - accuracy: 0.9462 - recall_1: 0.9435 - val_loss: 0.5217 - val_accuracy: 0.8182 - val_recall_1: 0.8718\n",
      "Epoch 21/2000\n",
      "9/9 [==============================] - 0s 3ms/step - loss: 0.1913 - accuracy: 0.9462 - recall_1: 0.9435 - val_loss: 0.5239 - val_accuracy: 0.8030 - val_recall_1: 0.8718\n",
      "Epoch 22/2000\n",
      "9/9 [==============================] - 0s 3ms/step - loss: 0.1910 - accuracy: 0.9462 - recall_1: 0.9435 - val_loss: 0.5254 - val_accuracy: 0.8030 - val_recall_1: 0.8718\n",
      "Epoch 23/2000\n",
      "9/9 [==============================] - 0s 2ms/step - loss: 0.1908 - accuracy: 0.9462 - recall_1: 0.9435 - val_loss: 0.5250 - val_accuracy: 0.8030 - val_recall_1: 0.8718\n",
      "Epoch 24/2000\n",
      "9/9 [==============================] - 0s 2ms/step - loss: 0.1906 - accuracy: 0.9500 - recall_1: 0.9435 - val_loss: 0.5261 - val_accuracy: 0.8030 - val_recall_1: 0.8718\n",
      "Epoch 25/2000\n",
      "9/9 [==============================] - 0s 3ms/step - loss: 0.1905 - accuracy: 0.9500 - recall_1: 0.9435 - val_loss: 0.5278 - val_accuracy: 0.8030 - val_recall_1: 0.8718\n",
      "Epoch 26/2000\n",
      "9/9 [==============================] - 0s 3ms/step - loss: 0.1902 - accuracy: 0.9500 - recall_1: 0.9435 - val_loss: 0.5274 - val_accuracy: 0.8030 - val_recall_1: 0.8718\n",
      "Epoch 27/2000\n",
      "9/9 [==============================] - 0s 3ms/step - loss: 0.1902 - accuracy: 0.9500 - recall_1: 0.9435 - val_loss: 0.5263 - val_accuracy: 0.8182 - val_recall_1: 0.8974\n",
      "Epoch 28/2000\n",
      "9/9 [==============================] - 0s 3ms/step - loss: 0.1900 - accuracy: 0.9500 - recall_1: 0.9435 - val_loss: 0.5259 - val_accuracy: 0.8182 - val_recall_1: 0.8974\n",
      "Epoch 29/2000\n",
      "9/9 [==============================] - 0s 2ms/step - loss: 0.1897 - accuracy: 0.9500 - recall_1: 0.9435 - val_loss: 0.5261 - val_accuracy: 0.8030 - val_recall_1: 0.8718\n",
      "Epoch 30/2000\n",
      "9/9 [==============================] - 0s 3ms/step - loss: 0.1896 - accuracy: 0.9500 - recall_1: 0.9435 - val_loss: 0.5260 - val_accuracy: 0.8182 - val_recall_1: 0.8718\n",
      "Epoch 31/2000\n",
      "9/9 [==============================] - 0s 2ms/step - loss: 0.1894 - accuracy: 0.9500 - recall_1: 0.9435 - val_loss: 0.5264 - val_accuracy: 0.8182 - val_recall_1: 0.8718\n",
      "Epoch 32/2000\n",
      "9/9 [==============================] - 0s 3ms/step - loss: 0.1892 - accuracy: 0.9500 - recall_1: 0.9435 - val_loss: 0.5252 - val_accuracy: 0.8182 - val_recall_1: 0.8718\n",
      "Epoch 33/2000\n",
      "9/9 [==============================] - 0s 2ms/step - loss: 0.1891 - accuracy: 0.9462 - recall_1: 0.9435 - val_loss: 0.5248 - val_accuracy: 0.8182 - val_recall_1: 0.8718\n",
      "Epoch 34/2000\n",
      "9/9 [==============================] - 0s 2ms/step - loss: 0.1890 - accuracy: 0.9462 - recall_1: 0.9435 - val_loss: 0.5238 - val_accuracy: 0.8182 - val_recall_1: 0.8718\n",
      "Epoch 35/2000\n",
      "9/9 [==============================] - 0s 3ms/step - loss: 0.1889 - accuracy: 0.9462 - recall_1: 0.9435 - val_loss: 0.5233 - val_accuracy: 0.8182 - val_recall_1: 0.8718\n",
      "Epoch 36/2000\n",
      "9/9 [==============================] - 0s 3ms/step - loss: 0.1888 - accuracy: 0.9500 - recall_1: 0.9435 - val_loss: 0.5216 - val_accuracy: 0.8182 - val_recall_1: 0.8718\n",
      "Epoch 37/2000\n",
      "9/9 [==============================] - 0s 3ms/step - loss: 0.1885 - accuracy: 0.9500 - recall_1: 0.9435 - val_loss: 0.5192 - val_accuracy: 0.8182 - val_recall_1: 0.8718\n",
      "Epoch 38/2000\n",
      "9/9 [==============================] - 0s 2ms/step - loss: 0.1884 - accuracy: 0.9462 - recall_1: 0.9435 - val_loss: 0.5191 - val_accuracy: 0.8182 - val_recall_1: 0.8718\n",
      "Epoch 39/2000\n",
      "9/9 [==============================] - 0s 3ms/step - loss: 0.1882 - accuracy: 0.9462 - recall_1: 0.9435 - val_loss: 0.5202 - val_accuracy: 0.8182 - val_recall_1: 0.8718\n",
      "Epoch 40/2000\n",
      "9/9 [==============================] - 0s 2ms/step - loss: 0.1879 - accuracy: 0.9462 - recall_1: 0.9435 - val_loss: 0.5210 - val_accuracy: 0.8182 - val_recall_1: 0.8718\n",
      "Epoch 41/2000\n",
      "9/9 [==============================] - 0s 4ms/step - loss: 0.1878 - accuracy: 0.9577 - recall_1: 0.9435 - val_loss: 0.5237 - val_accuracy: 0.8182 - val_recall_1: 0.8718\n",
      "Epoch 42/2000\n",
      "9/9 [==============================] - 0s 4ms/step - loss: 0.1877 - accuracy: 0.9615 - recall_1: 0.9435 - val_loss: 0.5258 - val_accuracy: 0.8182 - val_recall_1: 0.8718\n",
      "Epoch 43/2000\n",
      "9/9 [==============================] - 0s 4ms/step - loss: 0.1876 - accuracy: 0.9615 - recall_1: 0.9435 - val_loss: 0.5267 - val_accuracy: 0.8182 - val_recall_1: 0.8718\n",
      "Epoch 44/2000\n",
      "9/9 [==============================] - 0s 3ms/step - loss: 0.1873 - accuracy: 0.9615 - recall_1: 0.9435 - val_loss: 0.5249 - val_accuracy: 0.8182 - val_recall_1: 0.8718\n",
      "Epoch 45/2000\n",
      "9/9 [==============================] - 0s 3ms/step - loss: 0.1873 - accuracy: 0.9577 - recall_1: 0.9435 - val_loss: 0.5223 - val_accuracy: 0.8182 - val_recall_1: 0.8718\n",
      "Epoch 46/2000\n",
      "9/9 [==============================] - 0s 3ms/step - loss: 0.1870 - accuracy: 0.9577 - recall_1: 0.9435 - val_loss: 0.5233 - val_accuracy: 0.8182 - val_recall_1: 0.8718\n",
      "Epoch 47/2000\n",
      "9/9 [==============================] - 0s 3ms/step - loss: 0.1867 - accuracy: 0.9577 - recall_1: 0.9435 - val_loss: 0.5223 - val_accuracy: 0.8182 - val_recall_1: 0.8718\n",
      "Epoch 48/2000\n",
      "9/9 [==============================] - 0s 3ms/step - loss: 0.1867 - accuracy: 0.9538 - recall_1: 0.9435 - val_loss: 0.5199 - val_accuracy: 0.8182 - val_recall_1: 0.8718\n",
      "Epoch 49/2000\n",
      "9/9 [==============================] - 0s 3ms/step - loss: 0.1867 - accuracy: 0.9538 - recall_1: 0.9435 - val_loss: 0.5189 - val_accuracy: 0.8030 - val_recall_1: 0.8718\n",
      "Epoch 50/2000\n",
      "9/9 [==============================] - 0s 3ms/step - loss: 0.1867 - accuracy: 0.9500 - recall_1: 0.9435 - val_loss: 0.5220 - val_accuracy: 0.8182 - val_recall_1: 0.8718\n",
      "Epoch 51/2000\n",
      "9/9 [==============================] - 0s 3ms/step - loss: 0.1862 - accuracy: 0.9500 - recall_1: 0.9435 - val_loss: 0.5223 - val_accuracy: 0.8182 - val_recall_1: 0.8718\n",
      "Epoch 52/2000\n",
      "9/9 [==============================] - 0s 2ms/step - loss: 0.1861 - accuracy: 0.9500 - recall_1: 0.9435 - val_loss: 0.5218 - val_accuracy: 0.8030 - val_recall_1: 0.8718\n",
      "Epoch 53/2000\n",
      "9/9 [==============================] - 0s 3ms/step - loss: 0.1861 - accuracy: 0.9500 - recall_1: 0.9435 - val_loss: 0.5222 - val_accuracy: 0.8030 - val_recall_1: 0.8718\n",
      "Epoch 54/2000\n",
      "9/9 [==============================] - 0s 3ms/step - loss: 0.1860 - accuracy: 0.9500 - recall_1: 0.9435 - val_loss: 0.5239 - val_accuracy: 0.8030 - val_recall_1: 0.8718\n",
      "Epoch 55/2000\n",
      "9/9 [==============================] - 0s 2ms/step - loss: 0.1857 - accuracy: 0.9500 - recall_1: 0.9435 - val_loss: 0.5248 - val_accuracy: 0.8030 - val_recall_1: 0.8718\n",
      "Epoch 56/2000\n",
      "9/9 [==============================] - 0s 3ms/step - loss: 0.1855 - accuracy: 0.9500 - recall_1: 0.9435 - val_loss: 0.5243 - val_accuracy: 0.8030 - val_recall_1: 0.8718\n",
      "Epoch 57/2000\n",
      "9/9 [==============================] - 0s 3ms/step - loss: 0.1853 - accuracy: 0.9500 - recall_1: 0.9435 - val_loss: 0.5232 - val_accuracy: 0.8030 - val_recall_1: 0.8718\n",
      "Epoch 58/2000\n",
      "9/9 [==============================] - 0s 2ms/step - loss: 0.1853 - accuracy: 0.9500 - recall_1: 0.9435 - val_loss: 0.5228 - val_accuracy: 0.8182 - val_recall_1: 0.8974\n",
      "Epoch 59/2000\n",
      "9/9 [==============================] - 0s 2ms/step - loss: 0.1850 - accuracy: 0.9500 - recall_1: 0.9435 - val_loss: 0.5233 - val_accuracy: 0.8333 - val_recall_1: 0.8974\n",
      "Epoch 60/2000\n",
      "9/9 [==============================] - 0s 3ms/step - loss: 0.1853 - accuracy: 0.9538 - recall_1: 0.9435 - val_loss: 0.5268 - val_accuracy: 0.8182 - val_recall_1: 0.8718\n",
      "Epoch 61/2000\n",
      "9/9 [==============================] - 0s 2ms/step - loss: 0.1845 - accuracy: 0.9577 - recall_1: 0.9435 - val_loss: 0.5275 - val_accuracy: 0.8182 - val_recall_1: 0.8718\n",
      "Epoch 62/2000\n",
      "9/9 [==============================] - 0s 2ms/step - loss: 0.1845 - accuracy: 0.9615 - recall_1: 0.9435 - val_loss: 0.5283 - val_accuracy: 0.8182 - val_recall_1: 0.8718\n",
      "Epoch 63/2000\n",
      "9/9 [==============================] - 0s 2ms/step - loss: 0.1845 - accuracy: 0.9615 - recall_1: 0.9435 - val_loss: 0.5283 - val_accuracy: 0.8182 - val_recall_1: 0.8718\n",
      "Epoch 64/2000\n",
      "9/9 [==============================] - 0s 2ms/step - loss: 0.1842 - accuracy: 0.9615 - recall_1: 0.9435 - val_loss: 0.5282 - val_accuracy: 0.8182 - val_recall_1: 0.8718\n",
      "Epoch 65/2000\n",
      "9/9 [==============================] - 0s 3ms/step - loss: 0.1840 - accuracy: 0.9577 - recall_1: 0.9435 - val_loss: 0.5275 - val_accuracy: 0.8182 - val_recall_1: 0.8718\n",
      "Epoch 66/2000\n",
      "9/9 [==============================] - 0s 2ms/step - loss: 0.1839 - accuracy: 0.9577 - recall_1: 0.9435 - val_loss: 0.5272 - val_accuracy: 0.8182 - val_recall_1: 0.8718\n",
      "Epoch 67/2000\n",
      "9/9 [==============================] - 0s 2ms/step - loss: 0.1837 - accuracy: 0.9577 - recall_1: 0.9435 - val_loss: 0.5284 - val_accuracy: 0.8333 - val_recall_1: 0.8974\n",
      "Epoch 68/2000\n",
      "9/9 [==============================] - 0s 2ms/step - loss: 0.1836 - accuracy: 0.9577 - recall_1: 0.9435 - val_loss: 0.5290 - val_accuracy: 0.8333 - val_recall_1: 0.8974\n",
      "Epoch 69/2000\n",
      "9/9 [==============================] - 0s 3ms/step - loss: 0.1835 - accuracy: 0.9577 - recall_1: 0.9435 - val_loss: 0.5292 - val_accuracy: 0.8333 - val_recall_1: 0.8974\n",
      "Epoch 70/2000\n",
      "9/9 [==============================] - 0s 2ms/step - loss: 0.1834 - accuracy: 0.9538 - recall_1: 0.9435 - val_loss: 0.5270 - val_accuracy: 0.8182 - val_recall_1: 0.8974\n",
      "Epoch 71/2000\n",
      "9/9 [==============================] - 0s 3ms/step - loss: 0.1833 - accuracy: 0.9500 - recall_1: 0.9435 - val_loss: 0.5261 - val_accuracy: 0.8182 - val_recall_1: 0.8974\n",
      "Epoch 72/2000\n",
      "9/9 [==============================] - 0s 2ms/step - loss: 0.1831 - accuracy: 0.9538 - recall_1: 0.9435 - val_loss: 0.5276 - val_accuracy: 0.8030 - val_recall_1: 0.8718\n",
      "Epoch 73/2000\n",
      "9/9 [==============================] - 0s 2ms/step - loss: 0.1830 - accuracy: 0.9538 - recall_1: 0.9435 - val_loss: 0.5286 - val_accuracy: 0.8030 - val_recall_1: 0.8718\n",
      "Epoch 74/2000\n",
      "9/9 [==============================] - 0s 3ms/step - loss: 0.1826 - accuracy: 0.9538 - recall_1: 0.9435 - val_loss: 0.5295 - val_accuracy: 0.8030 - val_recall_1: 0.8718\n",
      "Epoch 75/2000\n",
      "9/9 [==============================] - 0s 3ms/step - loss: 0.1825 - accuracy: 0.9538 - recall_1: 0.9435 - val_loss: 0.5304 - val_accuracy: 0.8030 - val_recall_1: 0.8718\n",
      "Epoch 76/2000\n",
      "9/9 [==============================] - 0s 2ms/step - loss: 0.1823 - accuracy: 0.9538 - recall_1: 0.9435 - val_loss: 0.5303 - val_accuracy: 0.8030 - val_recall_1: 0.8718\n",
      "Epoch 77/2000\n",
      "9/9 [==============================] - 0s 3ms/step - loss: 0.1821 - accuracy: 0.9538 - recall_1: 0.9435 - val_loss: 0.5297 - val_accuracy: 0.8030 - val_recall_1: 0.8718\n",
      "Epoch 78/2000\n",
      "9/9 [==============================] - 0s 2ms/step - loss: 0.1819 - accuracy: 0.9538 - recall_1: 0.9435 - val_loss: 0.5300 - val_accuracy: 0.8030 - val_recall_1: 0.8718\n",
      "Epoch 79/2000\n",
      "9/9 [==============================] - 0s 2ms/step - loss: 0.1819 - accuracy: 0.9538 - recall_1: 0.9435 - val_loss: 0.5312 - val_accuracy: 0.8030 - val_recall_1: 0.8718\n",
      "Epoch 80/2000\n",
      "9/9 [==============================] - 0s 2ms/step - loss: 0.1816 - accuracy: 0.9577 - recall_1: 0.9435 - val_loss: 0.5303 - val_accuracy: 0.8030 - val_recall_1: 0.8718\n",
      "Epoch 81/2000\n",
      "9/9 [==============================] - 0s 3ms/step - loss: 0.1815 - accuracy: 0.9577 - recall_1: 0.9435 - val_loss: 0.5306 - val_accuracy: 0.8030 - val_recall_1: 0.8718\n",
      "Epoch 82/2000\n",
      "9/9 [==============================] - 0s 3ms/step - loss: 0.1814 - accuracy: 0.9615 - recall_1: 0.9435 - val_loss: 0.5270 - val_accuracy: 0.8030 - val_recall_1: 0.8718\n",
      "Epoch 83/2000\n",
      "9/9 [==============================] - 0s 3ms/step - loss: 0.1813 - accuracy: 0.9577 - recall_1: 0.9435 - val_loss: 0.5255 - val_accuracy: 0.8030 - val_recall_1: 0.8718\n",
      "Epoch 84/2000\n",
      "9/9 [==============================] - 0s 3ms/step - loss: 0.1812 - accuracy: 0.9577 - recall_1: 0.9435 - val_loss: 0.5238 - val_accuracy: 0.8333 - val_recall_1: 0.9231\n",
      "Epoch 85/2000\n",
      "9/9 [==============================] - 0s 2ms/step - loss: 0.1810 - accuracy: 0.9538 - recall_1: 0.9435 - val_loss: 0.5251 - val_accuracy: 0.8030 - val_recall_1: 0.8718\n",
      "Epoch 86/2000\n",
      "9/9 [==============================] - 0s 3ms/step - loss: 0.1807 - accuracy: 0.9577 - recall_1: 0.9435 - val_loss: 0.5263 - val_accuracy: 0.8030 - val_recall_1: 0.8718\n",
      "Epoch 87/2000\n",
      "9/9 [==============================] - 0s 3ms/step - loss: 0.1806 - accuracy: 0.9577 - recall_1: 0.9435 - val_loss: 0.5272 - val_accuracy: 0.8030 - val_recall_1: 0.8718\n",
      "Epoch 88/2000\n",
      "9/9 [==============================] - 0s 2ms/step - loss: 0.1806 - accuracy: 0.9577 - recall_1: 0.9435 - val_loss: 0.5245 - val_accuracy: 0.8182 - val_recall_1: 0.8974\n",
      "Epoch 89/2000\n",
      "9/9 [==============================] - 0s 2ms/step - loss: 0.1803 - accuracy: 0.9615 - recall_1: 0.9516 - val_loss: 0.5241 - val_accuracy: 0.8030 - val_recall_1: 0.8718\n",
      "Epoch 90/2000\n",
      "9/9 [==============================] - 0s 3ms/step - loss: 0.1801 - accuracy: 0.9615 - recall_1: 0.9516 - val_loss: 0.5240 - val_accuracy: 0.8030 - val_recall_1: 0.8718\n",
      "Epoch 91/2000\n",
      "9/9 [==============================] - 0s 2ms/step - loss: 0.1800 - accuracy: 0.9654 - recall_1: 0.9516 - val_loss: 0.5239 - val_accuracy: 0.8030 - val_recall_1: 0.8718\n",
      "Epoch 92/2000\n",
      "9/9 [==============================] - 0s 2ms/step - loss: 0.1797 - accuracy: 0.9577 - recall_1: 0.9435 - val_loss: 0.5261 - val_accuracy: 0.8030 - val_recall_1: 0.8718\n",
      "Epoch 93/2000\n",
      "9/9 [==============================] - 0s 3ms/step - loss: 0.1797 - accuracy: 0.9615 - recall_1: 0.9435 - val_loss: 0.5269 - val_accuracy: 0.7879 - val_recall_1: 0.8462\n",
      "Epoch 94/2000\n",
      "9/9 [==============================] - 0s 3ms/step - loss: 0.1796 - accuracy: 0.9615 - recall_1: 0.9435 - val_loss: 0.5278 - val_accuracy: 0.7879 - val_recall_1: 0.8462\n",
      "Epoch 95/2000\n",
      "9/9 [==============================] - 0s 3ms/step - loss: 0.1794 - accuracy: 0.9615 - recall_1: 0.9435 - val_loss: 0.5281 - val_accuracy: 0.7879 - val_recall_1: 0.8462\n",
      "Epoch 96/2000\n",
      "9/9 [==============================] - 0s 3ms/step - loss: 0.1792 - accuracy: 0.9615 - recall_1: 0.9435 - val_loss: 0.5279 - val_accuracy: 0.7879 - val_recall_1: 0.8462\n",
      "Epoch 97/2000\n",
      "9/9 [==============================] - 0s 2ms/step - loss: 0.1790 - accuracy: 0.9615 - recall_1: 0.9435 - val_loss: 0.5277 - val_accuracy: 0.8030 - val_recall_1: 0.8718\n",
      "Epoch 98/2000\n",
      "9/9 [==============================] - 0s 3ms/step - loss: 0.1791 - accuracy: 0.9577 - recall_1: 0.9435 - val_loss: 0.5255 - val_accuracy: 0.8030 - val_recall_1: 0.8718\n",
      "Epoch 99/2000\n",
      "9/9 [==============================] - 0s 3ms/step - loss: 0.1789 - accuracy: 0.9538 - recall_1: 0.9435 - val_loss: 0.5225 - val_accuracy: 0.8182 - val_recall_1: 0.8974\n",
      "Epoch 100/2000\n",
      "9/9 [==============================] - 0s 2ms/step - loss: 0.1787 - accuracy: 0.9654 - recall_1: 0.9516 - val_loss: 0.5220 - val_accuracy: 0.8182 - val_recall_1: 0.8974\n",
      "Epoch 101/2000\n",
      "9/9 [==============================] - 0s 2ms/step - loss: 0.1785 - accuracy: 0.9654 - recall_1: 0.9516 - val_loss: 0.5220 - val_accuracy: 0.8030 - val_recall_1: 0.8718\n"
     ]
    }
   ],
   "source": [
    "history = model.fit(feat_train, targ_train, epochs=2000, batch_size=32,\n",
    "                    validation_data=(feat_val,targ_val),\n",
    "                    callbacks=[keras.callbacks.EarlyStopping(patience=100, restore_best_weights=True)])"
   ]
  },
  {
   "cell_type": "code",
   "execution_count": 311,
   "metadata": {},
   "outputs": [
    {
     "name": "stdout",
     "output_type": "stream",
     "text": [
      "9/9 [==============================] - 0s 501us/step - loss: 0.1953 - accuracy: 0.9462 - recall_1: 0.9435\n"
     ]
    },
    {
     "data": {
      "text/plain": [
       "[0.19525845348834991, 0.9461538195610046, 0.9435483813285828]"
      ]
     },
     "execution_count": 311,
     "metadata": {},
     "output_type": "execute_result"
    }
   ],
   "source": [
    "model.evaluate(feat_train,targ_train)"
   ]
  },
  {
   "cell_type": "code",
   "execution_count": 312,
   "metadata": {},
   "outputs": [
    {
     "data": {
      "image/png": "[encoded data removed]",
      "text/plain": [
       "<Figure size 576x360 with 1 Axes>"
      ]
     },
     "metadata": {
      "needs_background": "light"
     },
     "output_type": "display_data"
    }
   ],
   "source": [
    "pd.DataFrame(history.history).plot(figsize=(8, 5))\n",
    "plt.grid(True)\n",
    "plt.gca().set_ylim(0, 1)\n",
    "plt.show()"
   ]
  },
  {
   "cell_type": "code",
   "execution_count": 313,
   "metadata": {},
   "outputs": [
    {
     "data": {
      "text/plain": [
       "(array([72., 30., 14.,  8., 12.,  7.,  9., 18., 32., 58.]),\n",
       " array([0.0010415 , 0.10065117, 0.20026085, 0.29987052, 0.3994802 ,\n",
       "        0.4990899 , 0.59869957, 0.69830924, 0.7979189 , 0.8975286 ,\n",
       "        0.99713826], dtype=float32),\n",
       " <BarContainer object of 10 artists>)"
      ]
     },
     "execution_count": 313,
     "metadata": {},
     "output_type": "execute_result"
    },
    {
     "data": {
      "image/png": "[encoded data removed]",
      "text/plain": [
       "<Figure size 432x288 with 1 Axes>"
      ]
     },
     "metadata": {
      "needs_background": "light"
     },
     "output_type": "display_data"
    }
   ],
   "source": [
    "plt.hist(model.predict(feat_train))"
   ]
  },
  {
   "cell_type": "code",
   "execution_count": 314,
   "metadata": {},
   "outputs": [
    {
     "data": {
      "text/plain": [
       "(array([136.,   0.,   0.,   0.,   0.,   0.,   0.,   0.,   0., 124.]),\n",
       " array([0. , 0.1, 0.2, 0.3, 0.4, 0.5, 0.6, 0.7, 0.8, 0.9, 1. ]),\n",
       " <BarContainer object of 10 artists>)"
      ]
     },
     "execution_count": 314,
     "metadata": {},
     "output_type": "execute_result"
    },
    {
     "data": {
      "image/png": "[encoded data removed]",
      "text/plain": [
       "<Figure size 432x288 with 1 Axes>"
      ]
     },
     "metadata": {
      "needs_background": "light"
     },
     "output_type": "display_data"
    }
   ],
   "source": [
    "plt.hist(targ_train)"
   ]
  },
  {
   "cell_type": "code",
   "execution_count": 315,
   "metadata": {},
   "outputs": [
    {
     "data": {
      "text/plain": [
       "<sklearn.metrics._plot.confusion_matrix.ConfusionMatrixDisplay at 0x2779ab82ca0>"
      ]
     },
     "execution_count": 315,
     "metadata": {},
     "output_type": "execute_result"
    },
    {
     "data": {
      "image/png": "[encoded data removed]",
      "text/plain": [
       "<Figure size 432x288 with 2 Axes>"
      ]
     },
     "metadata": {
      "needs_background": "light"
     },
     "output_type": "display_data"
    }
   ],
   "source": [
    "cm = confusion_matrix(targ_train, model.predict(feat_train)>0.5)\n",
    "disp = ConfusionMatrixDisplay(confusion_matrix=cm)\n",
    "disp.plot()"
   ]
  }
 ],
 "metadata": {
  "interpreter": {
   "hash": "d9579fd63862c719ce91d1dd1fb1c44b2ef43bdaa2f86d843d9fd8562746d35b"
  },
  "kernelspec": {
   "display_name": "Python 3.9.6 64-bit",
   "name": "python3"
  },
  "language_info": {
   "codemirror_mode": {
    "name": "ipython",
    "version": 3
   },
   "file_extension": ".py",
   "mimetype": "text/x-python",
   "name": "python",
   "nbconvert_exporter": "python",
   "pygments_lexer": "ipython3",
   "version": "3.9.6"
  },
  "orig_nbformat": 4
 },
 "nbformat": 4,
 "nbformat_minor": 2
}
