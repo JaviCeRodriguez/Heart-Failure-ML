{
 "cells": [
  {
   "cell_type": "markdown",
   "metadata": {},
   "source": [
    "# RECOPILACIÓN DE LO Q NOS DIO MEJOR RESULTADO (so far)"
   ]
  },
  {
   "cell_type": "markdown",
   "metadata": {},
   "source": [
    "---\n",
    "---"
   ]
  },
  {
   "cell_type": "code",
   "execution_count": 4,
   "metadata": {},
   "outputs": [],
   "source": [
    "import pandas as pd\n",
    "import matplotlib.pyplot as plt\n",
    "from sklearn.model_selection import train_test_split, GridSearchCV, cross_val_score, cross_val_predict, StratifiedShuffleSplit\n",
    "from sklearn.ensemble import RandomForestClassifier\n",
    "from sklearn.pipeline import Pipeline\n",
    "from imblearn.over_sampling import SMOTE\n",
    "\n",
    "#from sklearn.metrics import confusion_matrix, ConfusionMatrixDisplay, precision_recall_curve, auc, roc_auc_score, roc_curve, RocCurveDisplay, PrecisionRecallDisplay, plot_precision_recall_curve, plot_roc_curve"
   ]
  },
  {
   "cell_type": "code",
   "execution_count": 8,
   "metadata": {},
   "outputs": [],
   "source": [
    "df_orig = pd.read_csv(r\"DS_G3_HeartFailure_FULL_train.csv\",index_col=0)\n",
    "df_cleaned = df_orig.drop([\"time\",\"anaemia\",\"diabetes\",\"high_blood_pressure\",\"sex\",\"smoking\"],axis=1)\n",
    "\n",
    "feat_train, feat_test, targ_train, targ_test = train_test_split(df_cleaned.drop([\"DEATH_EVENT\"],axis=1),df_cleaned[\"DEATH_EVENT\"],test_size=0.2)\n",
    "\n",
    "sss = StratifiedShuffleSplit(5) # USAMOS ESTO PARA CV POR EL DESBALANCE\n",
    "\n",
    "sm = SMOTE()\n",
    "feat_train, targ_train = sm.fit_resample(feat_train, targ_train)"
   ]
  },
  {
   "cell_type": "markdown",
   "metadata": {},
   "source": [
    "## USAMOS UN RF PARA COMPROBAR LAS SUPOSICIONES DE IMPORTANCIA DE FEATURES"
   ]
  },
  {
   "cell_type": "code",
   "execution_count": 9,
   "metadata": {},
   "outputs": [
    {
     "name": "stdout",
     "output_type": "stream",
     "text": [
      "(0.12200226357422415, 'age')\n",
      "(0.13111729342538173, 'serum_sodium')\n",
      "(0.1391540078962218, 'creatinine_phosphokinase')\n",
      "(0.14906799994550382, 'platelets')\n",
      "(0.22606897249840807, 'serum_creatinine')\n",
      "(0.23258946266026045, 'ejection_fraction')\n"
     ]
    }
   ],
   "source": [
    "rf_model = RandomForestClassifier(n_estimators=5000)\n",
    "rf_model.fit(feat_train,targ_train)\n",
    "for feat in sorted(list(zip(rf_model.feature_importances_,df_cleaned.drop(\"DEATH_EVENT\",axis=1).columns))):\n",
    "    print(feat)"
   ]
  },
  {
   "cell_type": "markdown",
   "metadata": {},
   "source": [
    "---"
   ]
  },
  {
   "cell_type": "code",
   "execution_count": 10,
   "metadata": {},
   "outputs": [
    {
     "name": "stdout",
     "output_type": "stream",
     "text": [
      "{'max_depth': 100, 'min_samples_leaf': 2, 'n_estimators': 150}\n",
      "Grilla Best Score: 0.824\n",
      "Cross Validation Score: 0.793 +/- 0.059\n"
     ]
    }
   ],
   "source": [
    "hyperparam = {\"n_estimators\":[140,150,160],\"max_depth\":[100,110,120],\"min_samples_leaf\":[2,10,20,50]}\n",
    "rf_model = RandomForestClassifier()\n",
    "rf_grilla = GridSearchCV(rf_model,hyperparam,cv=sss,scoring=\"f1\",n_jobs=-1)\n",
    "rf_grilla.fit(feat_train,targ_train)\n",
    "rf_model = rf_grilla.best_estimator_\n",
    "print(rf_grilla.best_params_)\n",
    "print(\"Grilla Best Score: {:.3f}\".format(rf_grilla.best_score_))\n",
    "rf_scoring = cross_val_score(rf_model, feat_train, targ_train,cv=sss, scoring=\"f1\")\n",
    "print(\"Cross Validation Score: {:.3f} +/- {:.3f}\".format(rf_scoring.mean(),rf_scoring.std()))"
   ]
  },
  {
   "cell_type": "code",
   "execution_count": null,
   "metadata": {},
   "outputs": [],
   "source": []
  }
 ],
 "metadata": {
  "interpreter": {
   "hash": "d9579fd63862c719ce91d1dd1fb1c44b2ef43bdaa2f86d843d9fd8562746d35b"
  },
  "kernelspec": {
   "display_name": "Python 3.9.6 64-bit",
   "name": "python3"
  },
  "language_info": {
   "codemirror_mode": {
    "name": "ipython",
    "version": 3
   },
   "file_extension": ".py",
   "mimetype": "text/x-python",
   "name": "python",
   "nbconvert_exporter": "python",
   "pygments_lexer": "ipython3",
   "version": "3.9.6"
  },
  "orig_nbformat": 4
 },
 "nbformat": 4,
 "nbformat_minor": 2
}
