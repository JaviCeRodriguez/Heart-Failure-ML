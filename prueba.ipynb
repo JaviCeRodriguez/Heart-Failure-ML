{
  "nbformat": 4,
  "nbformat_minor": 0,
  "metadata": {
    "orig_nbformat": 4,
    "language_info": {
      "name": "python",
      "version": "3.8.8",
      "mimetype": "text/x-python",
      "codemirror_mode": {
        "name": "ipython",
        "version": 3
      },
      "pygments_lexer": "ipython3",
      "nbconvert_exporter": "python",
      "file_extension": ".py"
    },
    "kernelspec": {
      "name": "python3",
      "display_name": "Python 3.8.8 64-bit ('base': conda)"
    },
    "interpreter": {
      "hash": "73e03da126b73bfff3642ec5261d56fa25c444ea595de51041687efaa60dda41"
    },
    "colab": {
      "name": "prueba.ipynb",
      "provenance": [],
      "include_colab_link": true
    }
  },
  "cells": [
    {
      "cell_type": "markdown",
      "metadata": {
        "id": "view-in-github",
        "colab_type": "text"
      },
      "source": [
        "<a href=\"https://colab.research.google.com/github/JaviCeRodriguez/Heart-Failure-ML/blob/main/prueba.ipynb\" target=\"_parent\"><img src=\"https://colab.research.google.com/assets/colab-badge.svg\" alt=\"Open In Colab\"/></a>"
      ]
    },
    {
      "cell_type": "markdown",
      "metadata": {
        "id": "f1Rzm7EDrVDE"
      },
      "source": [
        "# Exploración de Datos y Predicción de falla cardíaca\n",
        "\n",
        "Notebook de prueba para explorar y aprender el dataset sobre esta temática."
      ]
    },
    {
      "cell_type": "code",
      "metadata": {
        "id": "RWJ4k_ECrVDH"
      },
      "source": [
        "# Imports\n",
        "import numpy as np\n",
        "import pandas as pd\n",
        "import seaborn as sns"
      ],
      "execution_count": 3,
      "outputs": []
    },
    {
      "cell_type": "code",
      "metadata": {
        "id": "6PajxMVBrVDI",
        "outputId": "bf350189-e337-49cb-971c-f5903a29f42c",
        "colab": {
          "base_uri": "https://localhost:8080/",
          "height": 379
        }
      },
      "source": [
        "# Obtengo los datos y muestro las primeras 10 filas\n",
        "if 'google.colab' in str(get_ipython()):\n",
        "    dataset = '/content/heart_failure_clinical_records_dataset.csv'\n",
        "else:\n",
        "    dataset = './heart_failure_clinical_records_dataset.csv'\n",
        "heart_data = pd.read_csv(dataset)\n",
        "heart_data.head(10)"
      ],
      "execution_count": 5,
      "outputs": [
        {
          "output_type": "execute_result",
          "data": {
            "text/html": [
              "<div>\n",
              "<style scoped>\n",
              "    .dataframe tbody tr th:only-of-type {\n",
              "        vertical-align: middle;\n",
              "    }\n",
              "\n",
              "    .dataframe tbody tr th {\n",
              "        vertical-align: top;\n",
              "    }\n",
              "\n",
              "    .dataframe thead th {\n",
              "        text-align: right;\n",
              "    }\n",
              "</style>\n",
              "<table border=\"1\" class=\"dataframe\">\n",
              "  <thead>\n",
              "    <tr style=\"text-align: right;\">\n",
              "      <th></th>\n",
              "      <th>age</th>\n",
              "      <th>anaemia</th>\n",
              "      <th>creatinine_phosphokinase</th>\n",
              "      <th>diabetes</th>\n",
              "      <th>ejection_fraction</th>\n",
              "      <th>high_blood_pressure</th>\n",
              "      <th>platelets</th>\n",
              "      <th>serum_creatinine</th>\n",
              "      <th>serum_sodium</th>\n",
              "      <th>sex</th>\n",
              "      <th>smoking</th>\n",
              "      <th>time</th>\n",
              "      <th>DEATH_EVENT</th>\n",
              "    </tr>\n",
              "  </thead>\n",
              "  <tbody>\n",
              "    <tr>\n",
              "      <th>0</th>\n",
              "      <td>75.0</td>\n",
              "      <td>0</td>\n",
              "      <td>582</td>\n",
              "      <td>0</td>\n",
              "      <td>20</td>\n",
              "      <td>1</td>\n",
              "      <td>265000.00</td>\n",
              "      <td>1.9</td>\n",
              "      <td>130</td>\n",
              "      <td>1</td>\n",
              "      <td>0</td>\n",
              "      <td>4</td>\n",
              "      <td>1</td>\n",
              "    </tr>\n",
              "    <tr>\n",
              "      <th>1</th>\n",
              "      <td>55.0</td>\n",
              "      <td>0</td>\n",
              "      <td>7861</td>\n",
              "      <td>0</td>\n",
              "      <td>38</td>\n",
              "      <td>0</td>\n",
              "      <td>263358.03</td>\n",
              "      <td>1.1</td>\n",
              "      <td>136</td>\n",
              "      <td>1</td>\n",
              "      <td>0</td>\n",
              "      <td>6</td>\n",
              "      <td>1</td>\n",
              "    </tr>\n",
              "    <tr>\n",
              "      <th>2</th>\n",
              "      <td>65.0</td>\n",
              "      <td>0</td>\n",
              "      <td>146</td>\n",
              "      <td>0</td>\n",
              "      <td>20</td>\n",
              "      <td>0</td>\n",
              "      <td>162000.00</td>\n",
              "      <td>1.3</td>\n",
              "      <td>129</td>\n",
              "      <td>1</td>\n",
              "      <td>1</td>\n",
              "      <td>7</td>\n",
              "      <td>1</td>\n",
              "    </tr>\n",
              "    <tr>\n",
              "      <th>3</th>\n",
              "      <td>50.0</td>\n",
              "      <td>1</td>\n",
              "      <td>111</td>\n",
              "      <td>0</td>\n",
              "      <td>20</td>\n",
              "      <td>0</td>\n",
              "      <td>210000.00</td>\n",
              "      <td>1.9</td>\n",
              "      <td>137</td>\n",
              "      <td>1</td>\n",
              "      <td>0</td>\n",
              "      <td>7</td>\n",
              "      <td>1</td>\n",
              "    </tr>\n",
              "    <tr>\n",
              "      <th>4</th>\n",
              "      <td>65.0</td>\n",
              "      <td>1</td>\n",
              "      <td>160</td>\n",
              "      <td>1</td>\n",
              "      <td>20</td>\n",
              "      <td>0</td>\n",
              "      <td>327000.00</td>\n",
              "      <td>2.7</td>\n",
              "      <td>116</td>\n",
              "      <td>0</td>\n",
              "      <td>0</td>\n",
              "      <td>8</td>\n",
              "      <td>1</td>\n",
              "    </tr>\n",
              "    <tr>\n",
              "      <th>5</th>\n",
              "      <td>90.0</td>\n",
              "      <td>1</td>\n",
              "      <td>47</td>\n",
              "      <td>0</td>\n",
              "      <td>40</td>\n",
              "      <td>1</td>\n",
              "      <td>204000.00</td>\n",
              "      <td>2.1</td>\n",
              "      <td>132</td>\n",
              "      <td>1</td>\n",
              "      <td>1</td>\n",
              "      <td>8</td>\n",
              "      <td>1</td>\n",
              "    </tr>\n",
              "    <tr>\n",
              "      <th>6</th>\n",
              "      <td>75.0</td>\n",
              "      <td>1</td>\n",
              "      <td>246</td>\n",
              "      <td>0</td>\n",
              "      <td>15</td>\n",
              "      <td>0</td>\n",
              "      <td>127000.00</td>\n",
              "      <td>1.2</td>\n",
              "      <td>137</td>\n",
              "      <td>1</td>\n",
              "      <td>0</td>\n",
              "      <td>10</td>\n",
              "      <td>1</td>\n",
              "    </tr>\n",
              "    <tr>\n",
              "      <th>7</th>\n",
              "      <td>60.0</td>\n",
              "      <td>1</td>\n",
              "      <td>315</td>\n",
              "      <td>1</td>\n",
              "      <td>60</td>\n",
              "      <td>0</td>\n",
              "      <td>454000.00</td>\n",
              "      <td>1.1</td>\n",
              "      <td>131</td>\n",
              "      <td>1</td>\n",
              "      <td>1</td>\n",
              "      <td>10</td>\n",
              "      <td>1</td>\n",
              "    </tr>\n",
              "    <tr>\n",
              "      <th>8</th>\n",
              "      <td>65.0</td>\n",
              "      <td>0</td>\n",
              "      <td>157</td>\n",
              "      <td>0</td>\n",
              "      <td>65</td>\n",
              "      <td>0</td>\n",
              "      <td>263358.03</td>\n",
              "      <td>1.5</td>\n",
              "      <td>138</td>\n",
              "      <td>0</td>\n",
              "      <td>0</td>\n",
              "      <td>10</td>\n",
              "      <td>1</td>\n",
              "    </tr>\n",
              "    <tr>\n",
              "      <th>9</th>\n",
              "      <td>80.0</td>\n",
              "      <td>1</td>\n",
              "      <td>123</td>\n",
              "      <td>0</td>\n",
              "      <td>35</td>\n",
              "      <td>1</td>\n",
              "      <td>388000.00</td>\n",
              "      <td>9.4</td>\n",
              "      <td>133</td>\n",
              "      <td>1</td>\n",
              "      <td>1</td>\n",
              "      <td>10</td>\n",
              "      <td>1</td>\n",
              "    </tr>\n",
              "  </tbody>\n",
              "</table>\n",
              "</div>"
            ],
            "text/plain": [
              "    age  anaemia  creatinine_phosphokinase  ...  smoking  time  DEATH_EVENT\n",
              "0  75.0        0                       582  ...        0     4            1\n",
              "1  55.0        0                      7861  ...        0     6            1\n",
              "2  65.0        0                       146  ...        1     7            1\n",
              "3  50.0        1                       111  ...        0     7            1\n",
              "4  65.0        1                       160  ...        0     8            1\n",
              "5  90.0        1                        47  ...        1     8            1\n",
              "6  75.0        1                       246  ...        0    10            1\n",
              "7  60.0        1                       315  ...        1    10            1\n",
              "8  65.0        0                       157  ...        0    10            1\n",
              "9  80.0        1                       123  ...        1    10            1\n",
              "\n",
              "[10 rows x 13 columns]"
            ]
          },
          "metadata": {},
          "execution_count": 5
        }
      ]
    },
    {
      "cell_type": "markdown",
      "metadata": {
        "id": "MS07MnsjrVDJ"
      },
      "source": [
        "## Features\n",
        "\n",
        "- `age`: Edad del paciente\n",
        "- `anaemia`: Disminución de glóbulos rojos o hemoglobina (booleano)\n",
        "- `creatinine_phosphokinase`: Nivel de enzimas CPK en sangre (mcg/L)\n",
        "- `diabetes`: Si el paciente tiene/tuvo diabetes (booleano)\n",
        "- `ejection_fraction`: Porcentaje de sangre que sale del corazón en cada contracción (porcentaje)\n",
        "- `high_blood_pressure`: Si el paciente tiene hipertensión (booleano)\n",
        "- `platelets`: Plaquetas en sangre (kiloplatelets/mL)\n",
        "- `serum_creatinine`: Nivel de creatinina sérica en sangre (mg/dL)\n",
        "- `serum_sodium`: Nivel de sodio serica en sangre (mEq/L)\n",
        "- `sex`: Mujer u hombre (booleano)\n",
        "- `smoking`: Si el paciente fuma o no (booleano)\n",
        "- `time`: Periodo de seguimiento (días)\n",
        "- `DEATH_EVENT`: Si el paciente falleció durante el periodo de seguimiento (booleano)"
      ]
    },
    {
      "cell_type": "markdown",
      "metadata": {
        "id": "yW8grKjarVDK"
      },
      "source": [
        "## Las patologías son un indicador de falla cardíaca?"
      ]
    },
    {
      "cell_type": "code",
      "metadata": {
        "id": "skCACFlMrVDK"
      },
      "source": [
        "pathologies_feat = [\"anaemia\", \"diabetes\", \"high_blood_pressure\", \"smoking\"]\n",
        "\n",
        "def pathologies_cases(data, feature: str, event: int) -> list:\n",
        "    data_feature = data[data[\"DEATH_EVENT\"]==event][feature]\n",
        "    idx = pd.Index(data_feature)\n",
        "    return list(idx.value_counts())\n",
        "\n",
        "p_surv = {f: pathologies_cases(data=heart_data, feature=f, event=0) for f in pathologies_feat}\n",
        "p_dead = {f: pathologies_cases(data=heart_data, feature=f, event=1) for f in pathologies_feat}"
      ],
      "execution_count": 6,
      "outputs": []
    },
    {
      "cell_type": "code",
      "metadata": {
        "id": "dXjoz9cqrVDL"
      },
      "source": [
        "def plot_bar(data: dict, index: list) -> None:\n",
        "    df_pathologies = pd.DataFrame(data, index=index)\n",
        "    ax = df_pathologies.plot(kind='pie', rot=0, figsize=(15, 5), subplots=True, autopct='%1.1f%%', colors=['green', 'red'])"
      ],
      "execution_count": 7,
      "outputs": []
    },
    {
      "cell_type": "code",
      "metadata": {
        "id": "wl26zeM4rVDL",
        "outputId": "8e689f44-fff7-4304-a240-26ca9008ac80",
        "colab": {
          "base_uri": "https://localhost:8080/",
          "height": 213
        }
      },
      "source": [
        "plot_bar(data=p_surv, index=['Survivors', 'Deaths'])"
      ],
      "execution_count": 8,
      "outputs": [
        {
          "output_type": "display_data",
          "data": {
            "image/png": "[encoded data removed]",
            "text/plain": [
              "<Figure size 1080x360 with 4 Axes>"
            ]
          },
          "metadata": {}
        }
      ]
    },
    {
      "cell_type": "markdown",
      "metadata": {
        "id": "5POuSp8iaO_A"
      },
      "source": [
        "A partir del análisis hecho, se observa que hay ciertos indicios de que las muertes por falla cardíaca se deben más por anemia y diabetes.\n",
        "\n",
        "Ahora, deberíamos hacer el mismo análisis con las otras features para ver el porcentaje de muertes.\n",
        "\n",
        "QUEDA PENDIENTE ESTO!"
      ]
    }
  ]
}